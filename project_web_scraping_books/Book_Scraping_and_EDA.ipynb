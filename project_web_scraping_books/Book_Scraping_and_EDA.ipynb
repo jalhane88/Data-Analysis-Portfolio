{
 "cells": [
  {
   "cell_type": "markdown",
   "metadata": {
    "id": "Y0_BOslE8vfV"
   },
   "source": [
    "# Web Scraping and Analysis of \"Books to Scrape\"\n",
    "\n",
    "## 1. Project Goal\n",
    "\n",
    "This project demonstrates the complete data analysis lifecycle, from data acquisition via web scraping to final exploratory data analysis. The primary objectives are:\n",
    "\n",
    "1.  **Data Acquisition:** To programmatically scrape data for 1,000 books across 50 pages from the website `books.toscrape.com`, a sandbox designed for this purpose.\n",
    "2.  **Data Structuring:** To parse the scraped HTML using `BeautifulSoup` and structure the raw data into a clean pandas DataFrame, capturing title, price, rating, and category.\n",
    "3.  **Exploratory Data Analysis:** To analyze the newly created dataset to uncover insights, such as the relationship between price and rating, the distribution of books across categories, and the identification of the most and least expensive book categories.\n",
    "\n",
    "This project showcases the ability to create a unique dataset from scratch, a highly in-demand skill for any data analyst.\n",
    "\n",
    "### Tools Used\n",
    "*   **`requests`:** For sending HTTP requests to the website.\n",
    "*   **`BeautifulSoup4`:** For parsing the HTML and extracting data points.\n",
    "*   **`pandas`:** For structuring and analyzing the collected data."
   ]
  },
  {
   "cell_type": "code",
   "execution_count": 2,
   "metadata": {
    "colab": {
     "base_uri": "https://localhost:8080/"
    },
    "executionInfo": {
     "elapsed": 26583,
     "status": "ok",
     "timestamp": 1753939815854,
     "user": {
      "displayName": "Julian Lehane",
      "userId": "05572513499392910126"
     },
     "user_tz": -120
    },
    "id": "vAhz74wC6i57",
    "outputId": "c44c1b50-5516-4012-9643-c00de60c98b8"
   },
   "outputs": [
    {
     "name": "stdout",
     "output_type": "stream",
     "text": [
      "Libraries imported successfully.\n"
     ]
    }
   ],
   "source": [
    "# --- 1. SETUP & IMPORTS ---\n",
    "import pandas as pd\n",
    "import numpy as np\n",
    "import matplotlib.pyplot as plt\n",
    "import seaborn as sns\n",
    "import requests # The library for making HTTP requests\n",
    "from bs4 import BeautifulSoup # The library for parsing HTML\n",
    "import time # To add delays between requests for scraping etiquette\n",
    "\n",
    "# from google.colab import drive\n",
    "# drive.mount('/content/drive')\n",
    "# Note: We may not need our other utils scripts.\n",
    "# utils_path = '/content/drive/MyDrive/Data_Analysis_Portfolio/utils'\n",
    "# sys.path.append(utils_path)\n",
    "\n",
    "print(\"Libraries imported successfully.\")"
   ]
  },
  {
   "cell_type": "markdown",
   "metadata": {
    "id": "NYFtv0e891Lu"
   },
   "source": [
    "## 2. Data Acquisition: Scraping the Website\n",
    "\n",
    "Our first task is to programmatically access the website and retrieve the raw HTML content of the search results page. We will use the `requests` library for this.\n",
    "\n",
    "A crucial aspect of web scraping is to be respectful of the target website. This includes:\n",
    "*   **Identifying Ourselves:** We will send a `User-Agent` header in our request. This tells the server that we are a script, but it mimics a real web browser, which makes our request look less like a malicious bot.\n",
    "*   **Not Overloading the Server:** We will add small delays (`time.sleep()`) between requests when we start scraping multiple pages."
   ]
  },
  {
   "cell_type": "code",
   "execution_count": 3,
   "metadata": {
    "colab": {
     "base_uri": "https://localhost:8080/"
    },
    "executionInfo": {
     "elapsed": 2036,
     "status": "ok",
     "timestamp": 1753941805813,
     "user": {
      "displayName": "Julian Lehane",
      "userId": "05572513499392910126"
     },
     "user_tz": -120
    },
    "id": "nMrY3A6b91ua",
    "outputId": "bf0a8090-4af8-4f1f-d7ce-b993dcde2cb7"
   },
   "outputs": [
    {
     "name": "stdout",
     "output_type": "stream",
     "text": [
      "Successfully fetched the webpage (Status Code: 200)\n",
      "Found 20 books on the first page.\n",
      "\n",
      "--- Test Extraction for First Book ---\n",
      "Title: A Light in the Attic\n",
      "Price: 51.77\n",
      "Rating: 3\n"
     ]
    }
   ],
   "source": [
    "# --- 1. Initial Scrape and Test ---\n",
    "# We will perform a test scrape on the first page to confirm our logic\n",
    "# before building the full multi-page scraper.\n",
    "\n",
    "target_url = \"http://books.toscrape.com/\"\n",
    "response = requests.get(target_url)\n",
    "\n",
    "if response.status_code == 200:\n",
    "    print(f\"Successfully fetched the webpage (Status Code: {response.status_code})\")\n",
    "    soup = BeautifulSoup(response.content, 'html.parser')\n",
    "\n",
    "    # Find all the book containers on the first page\n",
    "    book_containers = soup.find_all('article', class_='product_pod')\n",
    "    print(f\"Found {len(book_containers)} books on the first page.\")\n",
    "\n",
    "    # Extract information for the first book as a test\n",
    "    first_book = book_containers[0]\n",
    "    title = first_book.h3.a['title']\n",
    "    price_str = first_book.find('p', class_='price_color').text\n",
    "    price = float(price_str.replace('£', ''))\n",
    "    rating_class = first_book.find('p', class_='star-rating')['class'][1]\n",
    "    rating_map = {'One': 1, 'Two': 2, 'Three': 3, 'Four': 4, 'Five': 5}\n",
    "    rating = rating_map.get(rating_class) # Use .get() for safety\n",
    "\n",
    "    print(\"\\n--- Test Extraction for First Book ---\")\n",
    "    print(f\"Title: {title}\")\n",
    "    print(f\"Price: {price}\")\n",
    "    print(f\"Rating: {rating}\")\n",
    "else:\n",
    "    print(f\"Failed to fetch the webpage. Status Code: {response.status_code}\")"
   ]
  },
  {
   "cell_type": "markdown",
   "metadata": {
    "id": "gBdrxB5CFgg_"
   },
   "source": [
    "## 2. Building the Full Scraper\n",
    "\n",
    "Our initial test successfully extracted the title, price, and rating for a single book. Now, we will build a robust scraper that can:\n",
    "1.  Iterate through all books on a single page.\n",
    "2.  Navigate through all 50 pages of the website.\n",
    "3.  Store the collected data neatly in a list, ready to be converted into a pandas DataFrame.\n",
    "\n",
    "We will also add a small delay between page requests to be respectful of the website's server."
   ]
  },
  {
   "cell_type": "code",
   "execution_count": 4,
   "metadata": {
    "colab": {
     "base_uri": "https://localhost:8080/"
    },
    "executionInfo": {
     "elapsed": 56994,
     "status": "ok",
     "timestamp": 1753942091479,
     "user": {
      "displayName": "Julian Lehane",
      "userId": "05572513499392910126"
     },
     "user_tz": -120
    },
    "id": "ImZdmza6FgH_",
    "outputId": "2c4a3237-16cc-401c-d62c-959a6c8d7c78"
   },
   "outputs": [
    {
     "name": "stdout",
     "output_type": "stream",
     "text": [
      "Scraping page 1: http://books.toscrape.com/catalogue/page-1.html\n",
      "Scraping page 2: http://books.toscrape.com/catalogue/page-2.html\n",
      "Scraping page 3: http://books.toscrape.com/catalogue/page-3.html\n",
      "Scraping page 4: http://books.toscrape.com/catalogue/page-4.html\n",
      "Scraping page 5: http://books.toscrape.com/catalogue/page-5.html\n",
      "Scraping page 6: http://books.toscrape.com/catalogue/page-6.html\n",
      "Scraping page 7: http://books.toscrape.com/catalogue/page-7.html\n",
      "Scraping page 8: http://books.toscrape.com/catalogue/page-8.html\n",
      "Scraping page 9: http://books.toscrape.com/catalogue/page-9.html\n",
      "Scraping page 10: http://books.toscrape.com/catalogue/page-10.html\n",
      "Scraping page 11: http://books.toscrape.com/catalogue/page-11.html\n",
      "Scraping page 12: http://books.toscrape.com/catalogue/page-12.html\n",
      "Scraping page 13: http://books.toscrape.com/catalogue/page-13.html\n",
      "Scraping page 14: http://books.toscrape.com/catalogue/page-14.html\n",
      "Scraping page 15: http://books.toscrape.com/catalogue/page-15.html\n",
      "Scraping page 16: http://books.toscrape.com/catalogue/page-16.html\n",
      "Scraping page 17: http://books.toscrape.com/catalogue/page-17.html\n",
      "Scraping page 18: http://books.toscrape.com/catalogue/page-18.html\n",
      "Scraping page 19: http://books.toscrape.com/catalogue/page-19.html\n",
      "Scraping page 20: http://books.toscrape.com/catalogue/page-20.html\n",
      "Scraping page 21: http://books.toscrape.com/catalogue/page-21.html\n",
      "Scraping page 22: http://books.toscrape.com/catalogue/page-22.html\n",
      "Scraping page 23: http://books.toscrape.com/catalogue/page-23.html\n",
      "Scraping page 24: http://books.toscrape.com/catalogue/page-24.html\n",
      "Scraping page 25: http://books.toscrape.com/catalogue/page-25.html\n",
      "Scraping page 26: http://books.toscrape.com/catalogue/page-26.html\n",
      "Scraping page 27: http://books.toscrape.com/catalogue/page-27.html\n",
      "Scraping page 28: http://books.toscrape.com/catalogue/page-28.html\n",
      "Scraping page 29: http://books.toscrape.com/catalogue/page-29.html\n",
      "Scraping page 30: http://books.toscrape.com/catalogue/page-30.html\n",
      "Scraping page 31: http://books.toscrape.com/catalogue/page-31.html\n",
      "Scraping page 32: http://books.toscrape.com/catalogue/page-32.html\n",
      "Scraping page 33: http://books.toscrape.com/catalogue/page-33.html\n",
      "Scraping page 34: http://books.toscrape.com/catalogue/page-34.html\n",
      "Scraping page 35: http://books.toscrape.com/catalogue/page-35.html\n",
      "Scraping page 36: http://books.toscrape.com/catalogue/page-36.html\n",
      "Scraping page 37: http://books.toscrape.com/catalogue/page-37.html\n",
      "Scraping page 38: http://books.toscrape.com/catalogue/page-38.html\n",
      "Scraping page 39: http://books.toscrape.com/catalogue/page-39.html\n",
      "Scraping page 40: http://books.toscrape.com/catalogue/page-40.html\n",
      "Scraping page 41: http://books.toscrape.com/catalogue/page-41.html\n",
      "Scraping page 42: http://books.toscrape.com/catalogue/page-42.html\n",
      "Scraping page 43: http://books.toscrape.com/catalogue/page-43.html\n",
      "Scraping page 44: http://books.toscrape.com/catalogue/page-44.html\n",
      "Scraping page 45: http://books.toscrape.com/catalogue/page-45.html\n",
      "Scraping page 46: http://books.toscrape.com/catalogue/page-46.html\n",
      "Scraping page 47: http://books.toscrape.com/catalogue/page-47.html\n",
      "Scraping page 48: http://books.toscrape.com/catalogue/page-48.html\n",
      "Scraping page 49: http://books.toscrape.com/catalogue/page-49.html\n",
      "Scraping page 50: http://books.toscrape.com/catalogue/page-50.html\n",
      "\n",
      "--- Scraping Complete ---\n",
      "Successfully scraped a total of 1000 books.\n",
      "--- First 5 rows of the new DataFrame ---\n",
      "                                   title  price  rating\n",
      "0                   A Light in the Attic  51.77       3\n",
      "1                     Tipping the Velvet  53.74       1\n",
      "2                             Soumission  50.10       1\n",
      "3                          Sharp Objects  47.82       4\n",
      "4  Sapiens: A Brief History of Humankind  54.23       5\n",
      "\n",
      "--- DataFrame Info ---\n",
      "<class 'pandas.core.frame.DataFrame'>\n",
      "RangeIndex: 1000 entries, 0 to 999\n",
      "Data columns (total 3 columns):\n",
      " #   Column  Non-Null Count  Dtype  \n",
      "---  ------  --------------  -----  \n",
      " 0   title   1000 non-null   object \n",
      " 1   price   1000 non-null   float64\n",
      " 2   rating  1000 non-null   int64  \n",
      "dtypes: float64(1), int64(1), object(1)\n",
      "memory usage: 23.6+ KB\n"
     ]
    }
   ],
   "source": [
    "# --- 1. Initialize variables ---\n",
    "base_url = \"http://books.toscrape.com/catalogue/\"\n",
    "all_books_data = [] # This list will hold the data for all books\n",
    "num_pages_to_scrape = 50 # The website has 50 pages\n",
    "\n",
    "\n",
    "# --- 2. Loop through all the pages ---\n",
    "# A 'for' loop is cleaner when we know the number of pages.\n",
    "for page_num in range(1, num_pages_to_scrape + 1):\n",
    "    # Construct the URL for the current page\n",
    "    url = base_url + f\"page-{page_num}.html\"\n",
    "    print(f\"Scraping page {page_num}: {url}\")\n",
    "\n",
    "    # Make the request\n",
    "    response = requests.get(url)\n",
    "\n",
    "    # Check if the page was fetched successfully\n",
    "    if response.status_code != 200:\n",
    "        print(f\"Warning: Failed to fetch page {page_num}. Status code: {response.status_code}\")\n",
    "        continue # Skip to the next page\n",
    "\n",
    "    soup = BeautifulSoup(response.content, 'html.parser')\n",
    "    book_containers = soup.find_all('article', class_='product_pod')\n",
    "\n",
    "    # Loop through all books on the current page\n",
    "    for book in book_containers:\n",
    "        try:\n",
    "            title = book.h3.a['title']\n",
    "            price = float(book.find('p', class_='price_color').text.replace('£', ''))\n",
    "\n",
    "            rating_class = book.find('p', class_='star-rating')['class'][1]\n",
    "            rating_map = {'One': 1, 'Two': 2, 'Three': 3, 'Four': 4, 'Five': 5}\n",
    "            rating = rating_map.get(rating_class)\n",
    "\n",
    "            # Store the extracted data\n",
    "            all_books_data.append({\n",
    "                'title': title,\n",
    "                'price': price,\n",
    "                'rating': rating\n",
    "            })\n",
    "        except Exception as e:\n",
    "            print(f\"Could not parse a book on page {page_num}. Error: {e}\")\n",
    "\n",
    "    # Be a good citizen!\n",
    "    time.sleep(1)\n",
    "\n",
    "\n",
    "# --- 3. Convert the collected data into a DataFrame ---\n",
    "df_books = pd.DataFrame(all_books_data)\n",
    "\n",
    "\n",
    "# --- 4. Verification ---\n",
    "print(\"\\n--- Scraping Complete ---\")\n",
    "print(f\"Successfully scraped a total of {len(df_books)} books.\")\n",
    "print(\"--- First 5 rows of the new DataFrame ---\")\n",
    "print(df_books.head())\n",
    "print(\"\\n--- DataFrame Info ---\")\n",
    "df_books.info()"
   ]
  },
  {
   "cell_type": "markdown",
   "metadata": {
    "id": "WEpbfiUHGm-H"
   },
   "source": [
    "## 3. Exploratory Data Analysis (EDA) of Scraped Book Data\n",
    "\n",
    "With our dataset of 1,000 books successfully scraped and structured, we can now perform an EDA to uncover insights. Our analysis will focus on answering a few key questions:\n",
    "\n",
    "1.  What is the distribution of book prices?\n",
    "2.  What is the distribution of star ratings?\n",
    "3.  Is there a relationship between a book's rating and its price?"
   ]
  },
  {
   "cell_type": "code",
   "execution_count": 5,
   "metadata": {
    "colab": {
     "base_uri": "https://localhost:8080/",
     "height": 1000
    },
    "executionInfo": {
     "elapsed": 563,
     "status": "ok",
     "timestamp": 1753942250865,
     "user": {
      "displayName": "Julian Lehane",
      "userId": "05572513499392910126"
     },
     "user_tz": -120
    },
    "id": "Kky4Eh_RGnWi",
    "outputId": "8f62ea24-06e1-468b-8ce8-39f10914889a"
   },
   "outputs": [
    {
     "data": {
      "image/png": "[encoded data removed]",
      "text/plain": [
       "<Figure size 1400x600 with 1 Axes>"
      ]
     },
     "metadata": {},
     "output_type": "display_data"
    },
    {
     "name": "stdout",
     "output_type": "stream",
     "text": [
      "--- Descriptive Statistics for Price ---\n",
      "count    1000.00000\n",
      "mean       35.07035\n",
      "std        14.44669\n",
      "min        10.00000\n",
      "25%        22.10750\n",
      "50%        35.98000\n",
      "75%        47.45750\n",
      "max        59.99000\n",
      "Name: price, dtype: float64\n"
     ]
    },
    {
     "data": {
      "image/png": "[encoded data removed]",
      "text/plain": [
       "<Figure size 1400x600 with 1 Axes>"
      ]
     },
     "metadata": {},
     "output_type": "display_data"
    },
    {
     "name": "stdout",
     "output_type": "stream",
     "text": [
      "\n",
      "--- Counts for Each Star Rating ---\n",
      "rating\n",
      "1    226\n",
      "2    196\n",
      "3    203\n",
      "4    179\n",
      "5    196\n",
      "Name: count, dtype: int64\n"
     ]
    }
   ],
   "source": [
    "# --- 1. Analyze the distribution of book prices ---\n",
    "plt.figure(figsize=(14, 6))\n",
    "sns.histplot(df_books['price'], bins=30, kde=True, color='dodgerblue')\n",
    "plt.title('Distribution of Book Prices (£)', fontsize=16)\n",
    "plt.xlabel('Price (£)')\n",
    "plt.ylabel('Number of Books')\n",
    "plt.show()\n",
    "\n",
    "print(\"--- Descriptive Statistics for Price ---\")\n",
    "print(df_books['price'].describe())\n",
    "\n",
    "\n",
    "# --- 2. Analyze the distribution of star ratings ---\n",
    "plt.figure(figsize=(14, 6))\n",
    "# A count plot is perfect for a discrete variable like rating\n",
    "rating_counts = df_books['rating'].value_counts().sort_index()\n",
    "sns.barplot(x=rating_counts.index, y=rating_counts.values, palette='YlGnBu',\n",
    "            hue=rating_counts.index, legend=False) # Warning-free syntax\n",
    "plt.title('Distribution of Star Ratings', fontsize=16)\n",
    "plt.xlabel('Star Rating (1-5)')\n",
    "plt.ylabel('Number of Books')\n",
    "plt.show()\n",
    "\n",
    "print(\"\\n--- Counts for Each Star Rating ---\")\n",
    "print(rating_counts)"
   ]
  },
  {
   "cell_type": "markdown",
   "metadata": {
    "id": "LzT48G8SHbEz"
   },
   "source": [
    "**Observations from the Distributions:**\n",
    "\n",
    "Both distributions look somewhat uniform.\n",
    "\n",
    "*   **Price Distribution:** The prices are spread out quite evenly between £10 and £60, with no strong central peak. The mean (`£35.07`) and median (`£35.98`) are nearly identical, confirming a lack of skewness. This suggests the book collection is well-balanced in terms of price points.\n",
    "\n",
    "*   **Rating Distribution:** Similarly, the star ratings are also remarkably uniform. There is no significant bias towards high or low ratings; each of the five rating categories has a similar number of books (around 200 each). This is a great property for a dataset, as it ensures we have enough examples in each category to make a fair comparison."
   ]
  },
  {
   "cell_type": "markdown",
   "metadata": {
    "id": "f5bV4cn8H5nO"
   },
   "source": [
    "### 4. Multivariate Analysis\n",
    "\n",
    "### 4.1 Relationship between Price and Rating\n",
    "\n",
    "A common assumption might be that higher-rated books are more expensive. Let's use a visualization to see if this holds true for our dataset. A box plot is an excellent tool to compare the distribution of prices for each star rating."
   ]
  },
  {
   "cell_type": "code",
   "execution_count": 6,
   "metadata": {
    "colab": {
     "base_uri": "https://localhost:8080/",
     "height": 755
    },
    "executionInfo": {
     "elapsed": 239,
     "status": "ok",
     "timestamp": 1753942581623,
     "user": {
      "displayName": "Julian Lehane",
      "userId": "05572513499392910126"
     },
     "user_tz": -120
    },
    "id": "3ZuFsFi5H6IP",
    "outputId": "7a897db5-44a7-4b32-dd40-4a713fe3efe6"
   },
   "outputs": [
    {
     "data": {
      "image/png": "[encoded data removed]",
      "text/plain": [
       "<Figure size 1400x800 with 1 Axes>"
      ]
     },
     "metadata": {},
     "output_type": "display_data"
    },
    {
     "name": "stdout",
     "output_type": "stream",
     "text": [
      "\n",
      "Pearson Correlation between Price and Rating: 0.0282\n"
     ]
    }
   ],
   "source": [
    "# --- Visualize the relationship between rating and price ---\n",
    "plt.figure(figsize=(14, 8))\n",
    "sns.boxplot(data=df_books, x='rating', y='price', palette='plasma',\n",
    "            hue='rating', legend=False) # Warning-free syntax\n",
    "plt.title('Book Price Distribution by Star Rating', fontsize=16)\n",
    "plt.xlabel('Star Rating (1-5)')\n",
    "plt.ylabel('Price (£)')\n",
    "plt.grid(True)\n",
    "plt.show()\n",
    "\n",
    "\n",
    "# --- Calculate the correlation ---\n",
    "correlation = df_books['price'].corr(df_books['rating'])\n",
    "print(f\"\\nPearson Correlation between Price and Rating: {correlation:.4f}\")"
   ]
  },
  {
   "cell_type": "markdown",
   "metadata": {
    "id": "Z2I24CyPIQoH"
   },
   "source": [
    "**Observation: No Apparent Relationship Between Price and Rating**\n",
    "\n",
    "The box plot visualization provides a clear and definitive answer to our key question.\n",
    "\n",
    "*   **Remarkable Similarity:** The price distributions for all five star-rating categories are almost identical. The median price (the horizontal line in each box) is consistently around **£35-£38**, regardless of whether a book is rated 1-star or 5-stars.\n",
    "*   **Consistent Spread:** The interquartile ranges (the boxes themselves) and the overall price range (the whiskers) are also very similar across all categories.\n",
    "\n",
    "The numerical correlation confirms this visual finding. A Pearson Correlation Coefficient of **[0.0282]** is extremely close to zero, which indicates **no meaningful linear relationship** between the price of a book and its rating in this dataset.\n",
    "\n",
    "**The Key Insight:**\n",
    "The common assumption that higher quality (rating) commands a higher price does not hold true for this collection of books. A customer browsing this store cannot use price as a proxy for quality, nor can they assume that a highly-rated book will be more expensive. This suggests that the pricing strategy for these books is likely driven by factors other than user-perceived quality, such as publication date, publisher costs, genre, or author popularity—data we did not scrape in this project."
   ]
  },
  {
   "cell_type": "markdown",
   "metadata": {
    "id": "7bBTUZNPJqu7"
   },
   "source": [
    "## 5. Summary & Conclusion\n",
    "\n",
    "### Key Findings from the EDA:\n",
    "\n",
    "*   **Balanced Distributions:** The created dataset was well-balanced. Both the book prices (ranging from £10 to £60) and the star ratings (1 to 5) were found to be distributed remarkably uniformly, with no significant skew or bias.\n",
    "\n",
    "*   **The Core Insight - No Correlation:** The most significant finding of the analysis was the **lack of a meaningful relationship between a book's price and its star rating.** The median price was consistent across all rating categories, and the Pearson correlation coefficient was effectively zero.\n",
    "\n",
    "### Final Conclusion:\n",
    "\n",
    "This project successfully showcases the ability to create a unique dataset from scratch using web scraping techniques. The subsequent EDA on this self-made data revealed a counter-intuitive but clear business insight: for this collection, price is not an indicator of customer-perceived quality.\n"
   ]
  }
 ],
 "metadata": {
  "colab": {
   "authorship_tag": "ABX9TyMF13N/lI6qmPkNnaRISi7N",
   "provenance": []
  },
  "kernelspec": {
   "display_name": "venv",
   "language": "python",
   "name": "python3"
  },
  "language_info": {
   "codemirror_mode": {
    "name": "ipython",
    "version": 3
   },
   "file_extension": ".py",
   "mimetype": "text/x-python",
   "name": "python",
   "nbconvert_exporter": "python",
   "pygments_lexer": "ipython3",
   "version": "3.13.2"
  }
 },
 "nbformat": 4,
 "nbformat_minor": 0
}
