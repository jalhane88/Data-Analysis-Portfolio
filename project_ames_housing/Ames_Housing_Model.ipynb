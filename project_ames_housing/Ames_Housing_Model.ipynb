{
 "cells": [
  {
   "cell_type": "markdown",
   "metadata": {
    "id": "X5fjMiBixFGB"
   },
   "source": [
    "# Ames Housing: Predictive Modeling for Sale Price\n",
    "\n",
    "## 1. Project Goal\n",
    "The goal of this project is to build and evaluate a regression model to accurately predict the sale price of houses in Ames, Iowa. This notebook leverages the insights from our comprehensive [Exploratory Data Analysis (EDA)](https://colab.research.google.com/drive/13H5UsKNIjzMML2j9KP6WQ7VVG43jU6ee) - see project folder.\n",
    "\n",
    "## 2. Modeling Strategy & EDA Recap\n",
    "\n",
    "Our EDA revealed several critical characteristics of the dataset that must be addressed to build a robust model. Our strategy will be directly informed by these findings:\n",
    "\n",
    "1.  **Target Variable Transformation:** The target, `SalePrice`, is severely right-skewed. To meet the assumptions of linear models and improve overall model stability, we will predict the **log-transformed `SalePrice`**.\n",
    "2.  **Feature Selection:** The EDA identified `OverallQual` and `GrLivArea` as the most influential numerical features. `Neighborhood` was the most important categorical feature. Our feature set will be a curated list of these top predictors.\n",
    "3.  **Multicollinearity:** We observed high correlation between features like `GarageCars` and `GarageArea`. For our linear model, we will select one from each correlated pair to ensure the stability and interpretability of the model coefficients.\n",
    "4.  **Preprocessing:** Our pipeline will need to handle both numerical (scaling) and categorical (one-hot encoding) features, as well as the ordinal features we engineered in the EDA.\n",
    "\n",
    "This structured approach, grounded in our EDA findings, will guide the development of our predictive model."
   ]
  },
  {
   "cell_type": "code",
   "execution_count": 1,
   "metadata": {
    "colab": {
     "base_uri": "https://localhost:8080/"
    },
    "executionInfo": {
     "elapsed": 46564,
     "status": "ok",
     "timestamp": 1754719728300,
     "user": {
      "displayName": "Julian Lehane",
      "userId": "05572513499392910126"
     },
     "user_tz": -120
    },
    "id": "XXuEgPeDvdy4",
    "outputId": "c0788d43-366b-44dd-9f94-65c13391d630"
   },
   "outputs": [],
   "source": [
    "# --- 1. SETUP & IMPORTS ---\n",
    "import pandas as pd\n",
    "import numpy as np\n",
    "import matplotlib.pyplot as plt\n",
    "import seaborn as sns\n",
    "import sys\n",
    "# from google.colab import drive\n",
    "\n",
    "# --- Custom Utility Functions ---\n",
    "# Add utility folder to python path\n",
    "sys.path.append('../utils')\n",
    "\n",
    "# Import custom reporting function\n",
    "import ml_utils # Our ML utilities!\n",
    "\n",
    "# --- Scikit-learn Imports ---\n",
    "from sklearn.model_selection import train_test_split\n",
    "from sklearn.preprocessing import StandardScaler, OneHotEncoder\n",
    "from sklearn.compose import ColumnTransformer\n",
    "from sklearn.pipeline import Pipeline\n",
    "from sklearn.linear_model import Ridge"
   ]
  },
  {
   "cell_type": "markdown",
   "metadata": {
    "id": "i9ef3GqUx5-H"
   },
   "source": [
    "## 2. Data Loading and Preparation\n",
    "\n",
    "We will load the same dataset and apply the same cleaning steps as in our EDA. Then, we will perform the final preprocessing steps required for machine learning: feature selection, target transformation, and splitting the data."
   ]
  },
  {
   "cell_type": "code",
   "execution_count": 3,
   "metadata": {
    "colab": {
     "base_uri": "https://localhost:8080/",
     "height": 290
    },
    "executionInfo": {
     "elapsed": 613,
     "status": "ok",
     "timestamp": 1754719759920,
     "user": {
      "displayName": "Julian Lehane",
      "userId": "05572513499392910126"
     },
     "user_tz": -120
    },
    "id": "SWvgx7iCx6Sn",
    "outputId": "cfbaeb35-8b52-4fdf-b921-6d5e14a7a48d"
   },
   "outputs": [
    {
     "name": "stdout",
     "output_type": "stream",
     "text": [
      "Clean data loaded successfully.\n",
      "Shape of the dataset: (2930, 81)\n"
     ]
    },
    {
     "data": {
      "application/vnd.microsoft.datawrangler.viewer.v0+json": {
       "columns": [
        {
         "name": "index",
         "rawType": "int64",
         "type": "integer"
        },
        {
         "name": "ms_subclass",
         "rawType": "int64",
         "type": "integer"
        },
        {
         "name": "ms_zoning",
         "rawType": "object",
         "type": "string"
        },
        {
         "name": "lot_frontage",
         "rawType": "float64",
         "type": "float"
        },
        {
         "name": "lot_area",
         "rawType": "int64",
         "type": "integer"
        },
        {
         "name": "street",
         "rawType": "object",
         "type": "string"
        },
        {
         "name": "alley",
         "rawType": "object",
         "type": "string"
        },
        {
         "name": "lot_shape",
         "rawType": "object",
         "type": "string"
        },
        {
         "name": "land_contour",
         "rawType": "object",
         "type": "string"
        },
        {
         "name": "utilities",
         "rawType": "object",
         "type": "string"
        },
        {
         "name": "lot_config",
         "rawType": "object",
         "type": "string"
        },
        {
         "name": "land_slope",
         "rawType": "object",
         "type": "string"
        },
        {
         "name": "neighborhood",
         "rawType": "object",
         "type": "string"
        },
        {
         "name": "condition_1",
         "rawType": "object",
         "type": "string"
        },
        {
         "name": "condition_2",
         "rawType": "object",
         "type": "string"
        },
        {
         "name": "bldg_type",
         "rawType": "object",
         "type": "string"
        },
        {
         "name": "house_style",
         "rawType": "object",
         "type": "string"
        },
        {
         "name": "overall_qual",
         "rawType": "int64",
         "type": "integer"
        },
        {
         "name": "overall_cond",
         "rawType": "int64",
         "type": "integer"
        },
        {
         "name": "year_built",
         "rawType": "int64",
         "type": "integer"
        },
        {
         "name": "year_remod_add",
         "rawType": "int64",
         "type": "integer"
        },
        {
         "name": "roof_style",
         "rawType": "object",
         "type": "string"
        },
        {
         "name": "roof_matl",
         "rawType": "object",
         "type": "string"
        },
        {
         "name": "exterior_1st",
         "rawType": "object",
         "type": "string"
        },
        {
         "name": "exterior_2nd",
         "rawType": "object",
         "type": "string"
        },
        {
         "name": "mas_vnr_type",
         "rawType": "object",
         "type": "string"
        },
        {
         "name": "mas_vnr_area",
         "rawType": "float64",
         "type": "float"
        },
        {
         "name": "exter_qual",
         "rawType": "int64",
         "type": "integer"
        },
        {
         "name": "exter_cond",
         "rawType": "int64",
         "type": "integer"
        },
        {
         "name": "foundation",
         "rawType": "object",
         "type": "string"
        },
        {
         "name": "bsmt_qual",
         "rawType": "int64",
         "type": "integer"
        },
        {
         "name": "bsmt_cond",
         "rawType": "int64",
         "type": "integer"
        },
        {
         "name": "bsmt_exposure",
         "rawType": "object",
         "type": "string"
        },
        {
         "name": "bsmtfin_type_1",
         "rawType": "object",
         "type": "string"
        },
        {
         "name": "bsmtfin_sf_1",
         "rawType": "float64",
         "type": "float"
        },
        {
         "name": "bsmtfin_type_2",
         "rawType": "object",
         "type": "string"
        },
        {
         "name": "bsmtfin_sf_2",
         "rawType": "float64",
         "type": "float"
        },
        {
         "name": "bsmt_unf_sf",
         "rawType": "float64",
         "type": "float"
        },
        {
         "name": "total_bsmt_sf",
         "rawType": "float64",
         "type": "float"
        },
        {
         "name": "heating",
         "rawType": "object",
         "type": "string"
        },
        {
         "name": "heating_qc",
         "rawType": "int64",
         "type": "integer"
        },
        {
         "name": "central_air",
         "rawType": "object",
         "type": "string"
        },
        {
         "name": "electrical",
         "rawType": "object",
         "type": "string"
        },
        {
         "name": "1st_flr_sf",
         "rawType": "int64",
         "type": "integer"
        },
        {
         "name": "2nd_flr_sf",
         "rawType": "int64",
         "type": "integer"
        },
        {
         "name": "low_qual_fin_sf",
         "rawType": "int64",
         "type": "integer"
        },
        {
         "name": "gr_liv_area",
         "rawType": "int64",
         "type": "integer"
        },
        {
         "name": "bsmt_full_bath",
         "rawType": "float64",
         "type": "float"
        },
        {
         "name": "bsmt_half_bath",
         "rawType": "float64",
         "type": "float"
        },
        {
         "name": "full_bath",
         "rawType": "int64",
         "type": "integer"
        },
        {
         "name": "half_bath",
         "rawType": "int64",
         "type": "integer"
        },
        {
         "name": "bedroom_abvgr",
         "rawType": "int64",
         "type": "integer"
        },
        {
         "name": "kitchen_abvgr",
         "rawType": "int64",
         "type": "integer"
        },
        {
         "name": "kitchen_qual",
         "rawType": "int64",
         "type": "integer"
        },
        {
         "name": "totrms_abvgrd",
         "rawType": "int64",
         "type": "integer"
        },
        {
         "name": "functional",
         "rawType": "object",
         "type": "string"
        },
        {
         "name": "fireplaces",
         "rawType": "int64",
         "type": "integer"
        },
        {
         "name": "fireplace_qu",
         "rawType": "int64",
         "type": "integer"
        },
        {
         "name": "garage_type",
         "rawType": "object",
         "type": "string"
        },
        {
         "name": "garage_yr_blt",
         "rawType": "float64",
         "type": "float"
        },
        {
         "name": "garage_finish",
         "rawType": "object",
         "type": "string"
        },
        {
         "name": "garage_cars",
         "rawType": "float64",
         "type": "float"
        },
        {
         "name": "garage_area",
         "rawType": "float64",
         "type": "float"
        },
        {
         "name": "garage_qual",
         "rawType": "int64",
         "type": "integer"
        },
        {
         "name": "garage_cond",
         "rawType": "int64",
         "type": "integer"
        },
        {
         "name": "paved_drive",
         "rawType": "object",
         "type": "string"
        },
        {
         "name": "wood_deck_sf",
         "rawType": "int64",
         "type": "integer"
        },
        {
         "name": "open_porch_sf",
         "rawType": "int64",
         "type": "integer"
        },
        {
         "name": "enclosed_porch",
         "rawType": "int64",
         "type": "integer"
        },
        {
         "name": "3ssn_porch",
         "rawType": "int64",
         "type": "integer"
        },
        {
         "name": "screen_porch",
         "rawType": "int64",
         "type": "integer"
        },
        {
         "name": "pool_area",
         "rawType": "int64",
         "type": "integer"
        },
        {
         "name": "pool_qc",
         "rawType": "int64",
         "type": "integer"
        },
        {
         "name": "fence",
         "rawType": "object",
         "type": "string"
        },
        {
         "name": "misc_feature",
         "rawType": "object",
         "type": "string"
        },
        {
         "name": "misc_val",
         "rawType": "int64",
         "type": "integer"
        },
        {
         "name": "mo_sold",
         "rawType": "int64",
         "type": "integer"
        },
        {
         "name": "yr_sold",
         "rawType": "int64",
         "type": "integer"
        },
        {
         "name": "sale_type",
         "rawType": "object",
         "type": "string"
        },
        {
         "name": "sale_condition",
         "rawType": "object",
         "type": "string"
        },
        {
         "name": "saleprice",
         "rawType": "int64",
         "type": "integer"
        },
        {
         "name": "log_saleprice",
         "rawType": "float64",
         "type": "float"
        }
       ],
       "ref": "18bfffe9-9957-4319-939a-be98a635685d",
       "rows": [
        [
         "0",
         "20",
         "RL",
         "141.0",
         "31770",
         "Pave",
         "None",
         "IR1",
         "Lvl",
         "AllPub",
         "Corner",
         "Gtl",
         "NAmes",
         "Norm",
         "Norm",
         "1Fam",
         "1Story",
         "6",
         "5",
         "1960",
         "1960",
         "Hip",
         "CompShg",
         "BrkFace",
         "Plywood",
         "Stone",
         "112.0",
         "3",
         "3",
         "CBlock",
         "3",
         "4",
         "Gd",
         "BLQ",
         "639.0",
         "Unf",
         "0.0",
         "441.0",
         "1080.0",
         "GasA",
         "2",
         "Y",
         "SBrkr",
         "1656",
         "0",
         "0",
         "1656",
         "1.0",
         "0.0",
         "1",
         "0",
         "3",
         "1",
         "3",
         "7",
         "Typ",
         "2",
         "4",
         "Attchd",
         "1960.0",
         "Fin",
         "2.0",
         "528.0",
         "3",
         "3",
         "P",
         "210",
         "62",
         "0",
         "0",
         "0",
         "0",
         "0",
         "None",
         "None",
         "0",
         "5",
         "2010",
         "WD ",
         "Normal",
         "215000",
         "12.278397958261774"
        ],
        [
         "1",
         "20",
         "RH",
         "80.0",
         "11622",
         "Pave",
         "None",
         "Reg",
         "Lvl",
         "AllPub",
         "Inside",
         "Gtl",
         "NAmes",
         "Feedr",
         "Norm",
         "1Fam",
         "1Story",
         "5",
         "6",
         "1961",
         "1961",
         "Gable",
         "CompShg",
         "VinylSd",
         "VinylSd",
         "None",
         "0.0",
         "3",
         "3",
         "CBlock",
         "3",
         "3",
         "No",
         "Rec",
         "468.0",
         "LwQ",
         "144.0",
         "270.0",
         "882.0",
         "GasA",
         "3",
         "Y",
         "SBrkr",
         "896",
         "0",
         "0",
         "896",
         "0.0",
         "0.0",
         "1",
         "0",
         "2",
         "1",
         "3",
         "5",
         "Typ",
         "0",
         "0",
         "Attchd",
         "1961.0",
         "Unf",
         "1.0",
         "730.0",
         "3",
         "3",
         "Y",
         "140",
         "0",
         "0",
         "0",
         "120",
         "0",
         "0",
         "MnPrv",
         "None",
         "0",
         "6",
         "2010",
         "WD ",
         "Normal",
         "105000",
         "11.561725152903833"
        ],
        [
         "2",
         "20",
         "RL",
         "81.0",
         "14267",
         "Pave",
         "None",
         "IR1",
         "Lvl",
         "AllPub",
         "Corner",
         "Gtl",
         "NAmes",
         "Norm",
         "Norm",
         "1Fam",
         "1Story",
         "6",
         "6",
         "1958",
         "1958",
         "Hip",
         "CompShg",
         "Wd Sdng",
         "Wd Sdng",
         "BrkFace",
         "108.0",
         "3",
         "3",
         "CBlock",
         "3",
         "3",
         "No",
         "ALQ",
         "923.0",
         "Unf",
         "0.0",
         "406.0",
         "1329.0",
         "GasA",
         "3",
         "Y",
         "SBrkr",
         "1329",
         "0",
         "0",
         "1329",
         "0.0",
         "0.0",
         "1",
         "1",
         "3",
         "1",
         "4",
         "6",
         "Typ",
         "0",
         "0",
         "Attchd",
         "1958.0",
         "Unf",
         "1.0",
         "312.0",
         "3",
         "3",
         "Y",
         "393",
         "36",
         "0",
         "0",
         "0",
         "0",
         "0",
         "None",
         "Gar2",
         "12500",
         "6",
         "2010",
         "WD ",
         "Normal",
         "172000",
         "12.055255569732177"
        ],
        [
         "3",
         "20",
         "RL",
         "93.0",
         "11160",
         "Pave",
         "None",
         "Reg",
         "Lvl",
         "AllPub",
         "Corner",
         "Gtl",
         "NAmes",
         "Norm",
         "Norm",
         "1Fam",
         "1Story",
         "7",
         "5",
         "1968",
         "1968",
         "Hip",
         "CompShg",
         "BrkFace",
         "BrkFace",
         "None",
         "0.0",
         "4",
         "3",
         "CBlock",
         "3",
         "3",
         "No",
         "ALQ",
         "1065.0",
         "Unf",
         "0.0",
         "1045.0",
         "2110.0",
         "GasA",
         "5",
         "Y",
         "SBrkr",
         "2110",
         "0",
         "0",
         "2110",
         "1.0",
         "0.0",
         "2",
         "1",
         "3",
         "1",
         "5",
         "8",
         "Typ",
         "2",
         "3",
         "Attchd",
         "1968.0",
         "Fin",
         "2.0",
         "522.0",
         "3",
         "3",
         "Y",
         "0",
         "0",
         "0",
         "0",
         "0",
         "0",
         "0",
         "None",
         "None",
         "0",
         "4",
         "2010",
         "WD ",
         "Normal",
         "244000",
         "12.404927602627597"
        ],
        [
         "4",
         "60",
         "RL",
         "74.0",
         "13830",
         "Pave",
         "None",
         "IR1",
         "Lvl",
         "AllPub",
         "Inside",
         "Gtl",
         "Gilbert",
         "Norm",
         "Norm",
         "1Fam",
         "2Story",
         "5",
         "5",
         "1997",
         "1998",
         "Gable",
         "CompShg",
         "VinylSd",
         "VinylSd",
         "None",
         "0.0",
         "3",
         "3",
         "PConc",
         "4",
         "3",
         "No",
         "GLQ",
         "791.0",
         "Unf",
         "0.0",
         "137.0",
         "928.0",
         "GasA",
         "4",
         "Y",
         "SBrkr",
         "928",
         "701",
         "0",
         "1629",
         "0.0",
         "0.0",
         "2",
         "1",
         "3",
         "1",
         "3",
         "6",
         "Typ",
         "1",
         "3",
         "Attchd",
         "1997.0",
         "Fin",
         "2.0",
         "482.0",
         "3",
         "3",
         "Y",
         "212",
         "34",
         "0",
         "0",
         "0",
         "0",
         "0",
         "MnPrv",
         "None",
         "0",
         "3",
         "2010",
         "WD ",
         "Normal",
         "189900",
         "12.15425816271595"
        ]
       ],
       "shape": {
        "columns": 81,
        "rows": 5
       }
      },
      "text/html": [
       "<div>\n",
       "<style scoped>\n",
       "    .dataframe tbody tr th:only-of-type {\n",
       "        vertical-align: middle;\n",
       "    }\n",
       "\n",
       "    .dataframe tbody tr th {\n",
       "        vertical-align: top;\n",
       "    }\n",
       "\n",
       "    .dataframe thead th {\n",
       "        text-align: right;\n",
       "    }\n",
       "</style>\n",
       "<table border=\"1\" class=\"dataframe\">\n",
       "  <thead>\n",
       "    <tr style=\"text-align: right;\">\n",
       "      <th></th>\n",
       "      <th>ms_subclass</th>\n",
       "      <th>ms_zoning</th>\n",
       "      <th>lot_frontage</th>\n",
       "      <th>lot_area</th>\n",
       "      <th>street</th>\n",
       "      <th>alley</th>\n",
       "      <th>lot_shape</th>\n",
       "      <th>land_contour</th>\n",
       "      <th>utilities</th>\n",
       "      <th>lot_config</th>\n",
       "      <th>...</th>\n",
       "      <th>pool_qc</th>\n",
       "      <th>fence</th>\n",
       "      <th>misc_feature</th>\n",
       "      <th>misc_val</th>\n",
       "      <th>mo_sold</th>\n",
       "      <th>yr_sold</th>\n",
       "      <th>sale_type</th>\n",
       "      <th>sale_condition</th>\n",
       "      <th>saleprice</th>\n",
       "      <th>log_saleprice</th>\n",
       "    </tr>\n",
       "  </thead>\n",
       "  <tbody>\n",
       "    <tr>\n",
       "      <th>0</th>\n",
       "      <td>20</td>\n",
       "      <td>RL</td>\n",
       "      <td>141.0</td>\n",
       "      <td>31770</td>\n",
       "      <td>Pave</td>\n",
       "      <td>None</td>\n",
       "      <td>IR1</td>\n",
       "      <td>Lvl</td>\n",
       "      <td>AllPub</td>\n",
       "      <td>Corner</td>\n",
       "      <td>...</td>\n",
       "      <td>0</td>\n",
       "      <td>None</td>\n",
       "      <td>None</td>\n",
       "      <td>0</td>\n",
       "      <td>5</td>\n",
       "      <td>2010</td>\n",
       "      <td>WD</td>\n",
       "      <td>Normal</td>\n",
       "      <td>215000</td>\n",
       "      <td>12.278398</td>\n",
       "    </tr>\n",
       "    <tr>\n",
       "      <th>1</th>\n",
       "      <td>20</td>\n",
       "      <td>RH</td>\n",
       "      <td>80.0</td>\n",
       "      <td>11622</td>\n",
       "      <td>Pave</td>\n",
       "      <td>None</td>\n",
       "      <td>Reg</td>\n",
       "      <td>Lvl</td>\n",
       "      <td>AllPub</td>\n",
       "      <td>Inside</td>\n",
       "      <td>...</td>\n",
       "      <td>0</td>\n",
       "      <td>MnPrv</td>\n",
       "      <td>None</td>\n",
       "      <td>0</td>\n",
       "      <td>6</td>\n",
       "      <td>2010</td>\n",
       "      <td>WD</td>\n",
       "      <td>Normal</td>\n",
       "      <td>105000</td>\n",
       "      <td>11.561725</td>\n",
       "    </tr>\n",
       "    <tr>\n",
       "      <th>2</th>\n",
       "      <td>20</td>\n",
       "      <td>RL</td>\n",
       "      <td>81.0</td>\n",
       "      <td>14267</td>\n",
       "      <td>Pave</td>\n",
       "      <td>None</td>\n",
       "      <td>IR1</td>\n",
       "      <td>Lvl</td>\n",
       "      <td>AllPub</td>\n",
       "      <td>Corner</td>\n",
       "      <td>...</td>\n",
       "      <td>0</td>\n",
       "      <td>None</td>\n",
       "      <td>Gar2</td>\n",
       "      <td>12500</td>\n",
       "      <td>6</td>\n",
       "      <td>2010</td>\n",
       "      <td>WD</td>\n",
       "      <td>Normal</td>\n",
       "      <td>172000</td>\n",
       "      <td>12.055256</td>\n",
       "    </tr>\n",
       "    <tr>\n",
       "      <th>3</th>\n",
       "      <td>20</td>\n",
       "      <td>RL</td>\n",
       "      <td>93.0</td>\n",
       "      <td>11160</td>\n",
       "      <td>Pave</td>\n",
       "      <td>None</td>\n",
       "      <td>Reg</td>\n",
       "      <td>Lvl</td>\n",
       "      <td>AllPub</td>\n",
       "      <td>Corner</td>\n",
       "      <td>...</td>\n",
       "      <td>0</td>\n",
       "      <td>None</td>\n",
       "      <td>None</td>\n",
       "      <td>0</td>\n",
       "      <td>4</td>\n",
       "      <td>2010</td>\n",
       "      <td>WD</td>\n",
       "      <td>Normal</td>\n",
       "      <td>244000</td>\n",
       "      <td>12.404928</td>\n",
       "    </tr>\n",
       "    <tr>\n",
       "      <th>4</th>\n",
       "      <td>60</td>\n",
       "      <td>RL</td>\n",
       "      <td>74.0</td>\n",
       "      <td>13830</td>\n",
       "      <td>Pave</td>\n",
       "      <td>None</td>\n",
       "      <td>IR1</td>\n",
       "      <td>Lvl</td>\n",
       "      <td>AllPub</td>\n",
       "      <td>Inside</td>\n",
       "      <td>...</td>\n",
       "      <td>0</td>\n",
       "      <td>MnPrv</td>\n",
       "      <td>None</td>\n",
       "      <td>0</td>\n",
       "      <td>3</td>\n",
       "      <td>2010</td>\n",
       "      <td>WD</td>\n",
       "      <td>Normal</td>\n",
       "      <td>189900</td>\n",
       "      <td>12.154258</td>\n",
       "    </tr>\n",
       "  </tbody>\n",
       "</table>\n",
       "<p>5 rows × 81 columns</p>\n",
       "</div>"
      ],
      "text/plain": [
       "   ms_subclass ms_zoning  lot_frontage  lot_area street alley lot_shape  \\\n",
       "0           20        RL         141.0     31770   Pave  None       IR1   \n",
       "1           20        RH          80.0     11622   Pave  None       Reg   \n",
       "2           20        RL          81.0     14267   Pave  None       IR1   \n",
       "3           20        RL          93.0     11160   Pave  None       Reg   \n",
       "4           60        RL          74.0     13830   Pave  None       IR1   \n",
       "\n",
       "  land_contour utilities lot_config  ... pool_qc  fence misc_feature misc_val  \\\n",
       "0          Lvl    AllPub     Corner  ...       0   None         None        0   \n",
       "1          Lvl    AllPub     Inside  ...       0  MnPrv         None        0   \n",
       "2          Lvl    AllPub     Corner  ...       0   None         Gar2    12500   \n",
       "3          Lvl    AllPub     Corner  ...       0   None         None        0   \n",
       "4          Lvl    AllPub     Inside  ...       0  MnPrv         None        0   \n",
       "\n",
       "  mo_sold yr_sold  sale_type  sale_condition  saleprice  log_saleprice  \n",
       "0       5    2010        WD           Normal     215000      12.278398  \n",
       "1       6    2010        WD           Normal     105000      11.561725  \n",
       "2       6    2010        WD           Normal     172000      12.055256  \n",
       "3       4    2010        WD           Normal     244000      12.404928  \n",
       "4       3    2010        WD           Normal     189900      12.154258  \n",
       "\n",
       "[5 rows x 81 columns]"
      ]
     },
     "execution_count": 3,
     "metadata": {},
     "output_type": "execute_result"
    }
   ],
   "source": [
    "# --- 2. LOAD CLEAN DATA ---\n",
    "# We load the CLEANED data file that already includes the log-transformed target.\n",
    "file_path = './data/AmesHousePrice_cleaned_with_log_target.csv'\n",
    "# Load the data and ensure no default NaN values are kept\n",
    "df_clean = pd.read_csv(file_path, keep_default_na=False)\n",
    "\n",
    "print(\"Clean data loaded successfully.\")\n",
    "print(f\"Shape of the dataset: {df_clean.shape}\")\n",
    "df_clean.head()"
   ]
  },
  {
   "cell_type": "markdown",
   "metadata": {
    "id": "uJJvB0kD8beh"
   },
   "source": [
    "## 3. Feature Selection and Target Definition\n",
    "\n",
    "A core principle of effective machine learning is to start with a strong, simple, and interpretable baseline model before adding complexity. Throwing all 77 available features into a model at once can lead to overfitting, long training times, and a model that is difficult to understand.\n",
    "\n",
    "Therefore, our strategy will be to **build our initial model using a curated subset of features** that our Exploratory Data Analysis identified as the most powerful and influential predictors of `SalePrice`.\n",
    "\n",
    "### The Rationale for Our Selected Features:\n",
    "\n",
    "*   **Target Variable (`y`):** We will use `log_saleprice`. Our EDA definitively showed that this transformed version is more normally distributed, which better satisfies the assumptions of linear models and often leads to better performance. The original `saleprice` column will be excluded to prevent data leakage.\n",
    "*   **Numerical Features (`X_numeric`):** We have selected the top 8 numerical features identified from our correlation heatmap and scatter plot analysis. These include measures of **quality** (`overall_qual`), **size** (`gr_liv_area`, `total_bsmt_sf`), **amenities** (`garage_cars`), and **modernity** (`year_built`). This approach avoids multicollinearity by intentionally excluding redundant features (e.g., choosing `garage_cars` over `garage_area`).\n",
    "*   **Categorical Features (`X_categorical`):** We have selected the categorical features that showed the most significant impact on price distribution in our box plots. **`neighborhood`** is the most critical, followed by key **ordinal quality metrics** (`kitchen_qual`, `bsmt_qual`, etc.) that we have already engineered into a numerical format.\n",
    "\n",
    "By starting with this focused set of ~13 features, we aim to build a powerful baseline model that is directly guided by our EDA insights. We can then use this model's performance as a benchmark for any more complex models we might build in the future."
   ]
  },
  {
   "cell_type": "code",
   "execution_count": 4,
   "metadata": {
    "colab": {
     "base_uri": "https://localhost:8080/"
    },
    "executionInfo": {
     "elapsed": 8,
     "status": "ok",
     "timestamp": 1754719762402,
     "user": {
      "displayName": "Julian Lehane",
      "userId": "05572513499392910126"
     },
     "user_tz": -120
    },
    "id": "i-g76B7M4Xpp",
    "outputId": "f1ce73de-d387-4c6b-f7f3-ad49469811b4"
   },
   "outputs": [
    {
     "name": "stdout",
     "output_type": "stream",
     "text": [
      "--- Target Variable (y) ---\n",
      "Shape: (2930,)\n",
      "\n",
      "--- Features (X) ---\n",
      "Shape: (2930, 77)\n",
      "\n",
      "Identified 46 numerical features.\n",
      "Identified 31 categorical features.\n"
     ]
    }
   ],
   "source": [
    "# --- 1. Define the Target Variable (y) ---\n",
    "y = df_clean['log_saleprice']\n",
    "\n",
    "\n",
    "# --- 2. Define the Features (X) ---\n",
    "# First, let's drop the target variables and any high-cardinality or less useful columns\n",
    "# 'neighborhood' is very important, but we'll exclude it for a simple baseline.\n",
    "# We will also drop the original date columns as we used them to create year built/remod.\n",
    "features_to_drop = ['saleprice', 'log_saleprice', 'neighborhood', 'ms_zoning'] # Example columns to drop\n",
    "X = df_clean.drop(columns=features_to_drop)\n",
    "\n",
    "# --- 3. Identify Numerical and Categorical Features for Preprocessing ---\n",
    "# This is a crucial step for our pipeline later.\n",
    "numerical_features = X.select_dtypes(include=np.number).columns.tolist()\n",
    "categorical_features = X.select_dtypes(include='object').columns.tolist()\n",
    "\n",
    "print(\"--- Target Variable (y) ---\")\n",
    "print(f\"Shape: {y.shape}\")\n",
    "\n",
    "print(\"\\n--- Features (X) ---\")\n",
    "print(f\"Shape: {X.shape}\")\n",
    "print(f\"\\nIdentified {len(numerical_features)} numerical features.\")\n",
    "print(f\"Identified {len(categorical_features)} categorical features.\")"
   ]
  },
  {
   "cell_type": "code",
   "execution_count": 5,
   "metadata": {
    "colab": {
     "base_uri": "https://localhost:8080/"
    },
    "executionInfo": {
     "elapsed": 4,
     "status": "ok",
     "timestamp": 1754719766019,
     "user": {
      "displayName": "Julian Lehane",
      "userId": "05572513499392910126"
     },
     "user_tz": -120
    },
    "id": "4v-Ptu366u-e",
    "outputId": "5e334ae0-d471-4561-bf60-932e5e279c11"
   },
   "outputs": [
    {
     "name": "stdout",
     "output_type": "stream",
     "text": [
      "--- Target Variable (y) ---\n",
      "Shape: (2930,)\n",
      "\n",
      "--- Selected Features (X) for Baseline Model ---\n",
      "Shape: (2930, 13)\n",
      "Number of selected features: 13\n",
      "\n",
      "Numerical features selected:\n",
      "['overall_qual', 'gr_liv_area', 'garage_cars', 'total_bsmt_sf', '1st_flr_sf', 'year_built', 'year_remod_add', 'full_bath']\n",
      "\n",
      "Categorical features selected:\n",
      "['neighborhood', 'kitchen_qual', 'bsmt_qual', 'exter_qual', 'heating_qc']\n"
     ]
    }
   ],
   "source": [
    "# --- 1. Define the Target Variable (y) ---\n",
    "y = df_clean['log_saleprice']\n",
    "\n",
    "\n",
    "# --- 2. SELECT a strong subset of features for our baseline model (X) ---\n",
    "# Based on our EDA, we'll select the top numerical and categorical features.\n",
    "\n",
    "# Top numerical features from our correlation analysis and scatter plots\n",
    "selected_numerical_features = [\n",
    "    'overall_qual',\n",
    "    'gr_liv_area',\n",
    "    'garage_cars',\n",
    "    'total_bsmt_sf',\n",
    "    '1st_flr_sf',\n",
    "    'year_built',\n",
    "    'year_remod_add',\n",
    "    'full_bath'\n",
    "]\n",
    "\n",
    "# Top categorical/ordinal features from our box plots\n",
    "selected_categorical_features = [\n",
    "    'neighborhood', # Let's include this one, it's too important to ignore\n",
    "    'kitchen_qual',\n",
    "    'bsmt_qual',\n",
    "    'exter_qual',\n",
    "    'heating_qc'\n",
    "]\n",
    "\n",
    "# Combine the lists to create our feature set X\n",
    "selected_features = selected_numerical_features + selected_categorical_features\n",
    "X = df_clean[selected_features]\n",
    "\n",
    "\n",
    "# --- 3. Update our feature lists for the preprocessor ---\n",
    "# We now use these curated lists instead of auto-detecting all of them\n",
    "numerical_features = selected_numerical_features\n",
    "categorical_features = selected_categorical_features\n",
    "\n",
    "print(\"--- Target Variable (y) ---\")\n",
    "print(f\"Shape: {y.shape}\")\n",
    "\n",
    "print(\"\\n--- Selected Features (X) for Baseline Model ---\")\n",
    "print(f\"Shape: {X.shape}\")\n",
    "print(f\"Number of selected features: {X.shape[1]}\")\n",
    "print(f\"\\nNumerical features selected:\\n{numerical_features}\")\n",
    "print(f\"\\nCategorical features selected:\\n{categorical_features}\")"
   ]
  },
  {
   "cell_type": "markdown",
   "metadata": {
    "id": "L_pwNPeC8y5_"
   },
   "source": [
    "## 4. Data Splitting and Preprocessing\n",
    "\n",
    "With our features and target defined, we can now prepare for model training.\n",
    "\n",
    "### 4.1 Train-Test Split\n",
    "First, we will split our data into a training set (which the model will learn from) and a testing set (which we will hold back for final, unbiased evaluation). We will use a standard 80/20 split."
   ]
  },
  {
   "cell_type": "code",
   "execution_count": 6,
   "metadata": {
    "colab": {
     "base_uri": "https://localhost:8080/"
    },
    "executionInfo": {
     "elapsed": 4,
     "status": "ok",
     "timestamp": 1754719771119,
     "user": {
      "displayName": "Julian Lehane",
      "userId": "05572513499392910126"
     },
     "user_tz": -120
    },
    "id": "BMb6hX0y8zgf",
    "outputId": "c7d23870-8a71-4836-a6a6-4057854b6441"
   },
   "outputs": [
    {
     "name": "stdout",
     "output_type": "stream",
     "text": [
      "--- Data Split ---\n",
      "X_train shape: (2344, 13)\n",
      "X_test shape: (586, 13)\n",
      "y_train shape: (2344,)\n",
      "y_test shape: (586,)\n"
     ]
    }
   ],
   "source": [
    "from sklearn.model_selection import train_test_split\n",
    "\n",
    "# Split the data into training (80%) and testing (20%) sets\n",
    "# random_state ensures that the split is the same every time we run the code.\n",
    "X_train, X_test, y_train, y_test = train_test_split(X, y, test_size=0.2, random_state=42)\n",
    "\n",
    "print(\"--- Data Split ---\")\n",
    "print(f\"X_train shape: {X_train.shape}\")\n",
    "print(f\"X_test shape: {X_test.shape}\")\n",
    "print(f\"y_train shape: {y_train.shape}\")\n",
    "print(f\"y_test shape: {y_test.shape}\")"
   ]
  },
  {
   "cell_type": "markdown",
   "metadata": {
    "id": "jI4QOS4h88Oe"
   },
   "source": [
    "### 4.2 Building the Preprocessing Pipeline\n",
    "\n",
    "Our dataset contains both numerical and categorical features, which need to be treated differently. We will build a preprocessing pipeline using scikit-learn's `ColumnTransformer`. This is a professional and robust way to handle mixed data types. The pipeline will:\n",
    "\n",
    "1.  **Scale** all numerical features using `StandardScaler`.\n",
    "2.  **One-Hot Encode** all categorical features using `OneHotEncoder`. `handle_unknown='ignore'` is an important parameter that prevents errors if the test set contains a category not seen in the training set."
   ]
  },
  {
   "cell_type": "code",
   "execution_count": 7,
   "metadata": {
    "colab": {
     "base_uri": "https://localhost:8080/"
    },
    "executionInfo": {
     "elapsed": 45,
     "status": "ok",
     "timestamp": 1754719774228,
     "user": {
      "displayName": "Julian Lehane",
      "userId": "05572513499392910126"
     },
     "user_tz": -120
    },
    "id": "Owgyl8mm9CNM",
    "outputId": "0d27114c-ef82-4ab0-dbb1-f5a8b45ff134"
   },
   "outputs": [
    {
     "name": "stdout",
     "output_type": "stream",
     "text": [
      "Preprocessor created successfully.\n"
     ]
    }
   ],
   "source": [
    "# Import our utility function\n",
    "import ml_utils\n",
    "import importlib\n",
    "importlib.reload(ml_utils) # Ensure we're using the latest version of our script\n",
    "\n",
    "# Create the preprocessor using our list of feature types\n",
    "preprocessor = ml_utils.create_preprocessor(numerical_features, categorical_features)\n",
    "\n",
    "print(\"Preprocessor created successfully.\")"
   ]
  },
  {
   "cell_type": "markdown",
   "metadata": {
    "id": "4lzC3ZfX9eKf"
   },
   "source": [
    "## 5. Model Training and Hyperparameter Tuning\n",
    "\n",
    "Now that our data is split and our preprocessing pipeline is defined, we can train our model. We will use a `Ridge` regression model, which is a type of linear regression that includes L2 regularization. This helps prevent overfitting and is a robust choice for this kind of problem.\n",
    "\n",
    "To find the optimal regularization strength (`alpha`), we will use `GridSearchCV` to systematically test a range of alpha values and identify the one that performs best on our training data via 5-fold cross-validation."
   ]
  },
  {
   "cell_type": "code",
   "execution_count": 8,
   "metadata": {
    "colab": {
     "base_uri": "https://localhost:8080/"
    },
    "executionInfo": {
     "elapsed": 2984,
     "status": "ok",
     "timestamp": 1754719780019,
     "user": {
      "displayName": "Julian Lehane",
      "userId": "05572513499392910126"
     },
     "user_tz": -120
    },
    "id": "NDUvNNcU9eii",
    "outputId": "7937bd04-9216-4292-8b3d-f734efb4c9bc"
   },
   "outputs": [
    {
     "name": "stdout",
     "output_type": "stream",
     "text": [
      "--- Running GridSearchCV to find the best alpha for Ridge Regression ---\n",
      "Fitting 5 folds for each of 7 candidates, totalling 35 fits\n",
      "GridSearchCV training complete.\n",
      "\n",
      "--- GridSearchCV Results ---\n",
      "Best Alpha found: {'regressor__alpha': 5.0}\n",
      "Best Cross-Validated RMSE on log_saleprice: 0.1585\n"
     ]
    }
   ],
   "source": [
    "from sklearn.pipeline import Pipeline\n",
    "from sklearn.linear_model import Ridge\n",
    "from sklearn.model_selection import GridSearchCV\n",
    "\n",
    "# --- 1. Create the full model pipeline ---\n",
    "# This chains our preprocessor with the Ridge regression model.\n",
    "pipeline = Pipeline(steps=[\n",
    "    ('preprocessor', preprocessor),\n",
    "    ('regressor', Ridge())\n",
    "])\n",
    "\n",
    "# --- 2. Define the \"grid\" of hyperparameters to test ---\n",
    "# 'regressor__alpha' tells GridSearchCV to tune the 'alpha' parameter\n",
    "# of the 'regressor' step in our pipeline.\n",
    "param_grid = {\n",
    "    'regressor__alpha': [0.1, 1.0, 5.0, 10.0, 20.0, 50.0, 100.0]\n",
    "}\n",
    "\n",
    "# --- 3. Set up and run GridSearchCV ---\n",
    "# We optimize for 'neg_root_mean_squared_error'. The negative is just a convention\n",
    "# for scikit-learn's optimizers, which are designed to maximize a score.\n",
    "grid_search = GridSearchCV(pipeline, param_grid, cv=5,\n",
    "                           scoring='neg_root_mean_squared_error',\n",
    "                           n_jobs=-1, # Use all available CPU cores\n",
    "                           verbose=1) # verbose=1 gives you progress updates\n",
    "\n",
    "print(\"--- Running GridSearchCV to find the best alpha for Ridge Regression ---\")\n",
    "# This is the main training step. It fits the pipeline on the TRAINING data.\n",
    "grid_search.fit(X_train, y_train)\n",
    "print(\"GridSearchCV training complete.\")\n",
    "\n",
    "\n",
    "# --- 4. Analyze the results ---\n",
    "print(\"\\n--- GridSearchCV Results ---\")\n",
    "print(f\"Best Alpha found: {grid_search.best_params_}\")\n",
    "# The score will be negative, so we flip the sign to get the actual RMSE.\n",
    "print(f\"Best Cross-Validated RMSE on log_saleprice: {-grid_search.best_score_:.4f}\")"
   ]
  },
  {
   "cell_type": "markdown",
   "metadata": {
    "id": "iNHP6-EbAl8N"
   },
   "source": [
    "## 6. Final Model Evaluation on the Test Set\n",
    "\n",
    "The `GridSearchCV` has identified the optimal hyperparameter (`alpha=5.0`) for our Ridge Regression model based on cross-validation on the training data.\n",
    "\n",
    "We will now take this single best-tuned model and use it to make predictions on the **held-out test set**. This provides the final, unbiased measure of our model's performance on new, unseen data. Our custom evaluation function will automatically handle the back-transformation from the log scale to provide an interpretable RMSE in dollars."
   ]
  },
  {
   "cell_type": "code",
   "execution_count": 9,
   "metadata": {
    "colab": {
     "base_uri": "https://localhost:8080/",
     "height": 656
    },
    "executionInfo": {
     "elapsed": 1283,
     "status": "ok",
     "timestamp": 1754719797328,
     "user": {
      "displayName": "Julian Lehane",
      "userId": "05572513499392910126"
     },
     "user_tz": -120
    },
    "id": "rKKKrPMEAmMy",
    "outputId": "9db5d17a-6866-408c-8947-d972990be6b0"
   },
   "outputs": [
    {
     "name": "stdout",
     "output_type": "stream",
     "text": [
      "--- Final Tuned Ridge Regression Evaluation ---\n",
      "Note: Metrics are on the back-transformed scale.\n",
      "R-squared (R²): 0.8515\n",
      "Root Mean Squared Error (RMSE): $34,500.55\n"
     ]
    },
    {
     "data": {
      "image/png": "[encoded data removed]",
      "text/plain": [
       "<Figure size 2000x800 with 2 Axes>"
      ]
     },
     "metadata": {},
     "output_type": "display_data"
    }
   ],
   "source": [
    "# --- 1. Get the best model from the completed grid search ---\n",
    "best_model = grid_search.best_estimator_\n",
    "\n",
    "# --- 2. Make predictions on the test set ---\n",
    "# The model predicts on the log scale, so the output is 'log_predictions'\n",
    "log_predictions = best_model.predict(X_test)\n",
    "\n",
    "\n",
    "# --- 3. Evaluate the final model using our enhanced utility script ---\n",
    "# We pass the log-scale y_test and log_predictions, and set log_transformed=True.\n",
    "# Our function will handle the back-transformation and print the results.\n",
    "final_rmse, final_r2 = ml_utils.evaluate_regressor(y_test, log_predictions,\n",
    "                                                   model_name=\"Final Tuned Ridge Regression\",\n",
    "                                                   log_transformed=True)"
   ]
  },
  {
   "cell_type": "markdown",
   "metadata": {
    "id": "xsfqbrGdGrMB"
   },
   "source": [
    "## 7. Conclusion and Next Steps\n",
    "\n",
    "This modeling project successfully built upon the insights from our comprehensive EDA to create a robust and interpretable baseline model for predicting house prices in Ames.\n",
    "\n",
    "### Model Performance Summary:\n",
    "\n",
    "Our final tuned **Ridge Regression** model achieved an **R-squared (R²) of 0.8515** and a **Root Mean Squared Error (RMSE) of approximately $34,500** on the unseen test data.\n",
    "\n",
    "*   This R² value indicates that our curated set of 13 features explains over 85% of the variance in house prices, which is an excellent result for a baseline model.\n",
    "*   The RMSE provides a clear, interpretable measure of our model's average prediction error in dollars.\n",
    "*   The **Residual Plot** and **Predicted vs. Actual Plot** confirmed that the model performs very well for the majority of \"typical\" homes but struggles with a few extreme high-value outliers, a classic sign of heteroscedasticity.\n",
    "\n",
    "### Interpreting the Model Choice: Ridge Regression (L2 Regularization)\n",
    "\n",
    "We specifically chose Ridge Regression for this task. It's a type of linear regression that includes **L2 regularization**, which adds a penalty term to the loss function that is proportional to the square of the magnitude of the coefficients.\n",
    "\n",
    "*   **Why this is useful:** This penalty \"shrinks\" the coefficients of less important features towards zero. This has two major benefits:\n",
    "    1.  **Reduces Overfitting:** It prevents the model from relying too heavily on any single feature, making it generalize better to new data.\n",
    "    2.  **Handles Multicollinearity:** It is very effective at managing situations where features are correlated (like `gr_liv_area` and `1st_flr_sf`).\n",
    "\n",
    "Because Ridge Regression is so robust, it **could have likely handled a heavier feature load**. We started with a curated set of 13 features for interpretability, but a next step could be to train the same Ridge model on all 77 features to see if the regularization alone is enough to filter out the noise and improve the score.\n",
    "\n",
    "### Visualise Feature Importance?\n",
    "\n",
    "While our EDA gave us a strong sense of feature importance through correlation, a trained linear model gives us another, more direct view through its **coefficients**. The magnitude of a coefficient (after all features have been scaled) tells us how much the model \"weighs\" that feature when making a prediction.\n",
    "\n",
    "Let's extract and visualize these coefficients to see what our trained model learned."
   ]
  },
  {
   "cell_type": "code",
   "execution_count": 10,
   "metadata": {
    "colab": {
     "base_uri": "https://localhost:8080/",
     "height": 895
    },
    "executionInfo": {
     "elapsed": 2689,
     "status": "ok",
     "timestamp": 1754720631949,
     "user": {
      "displayName": "Julian Lehane",
      "userId": "05572513499392910126"
     },
     "user_tz": -120
    },
    "id": "0qMBvYWoFOVh",
    "outputId": "df08e8ed-60f4-4ff3-bf3c-4f8cc719e117"
   },
   "outputs": [
    {
     "data": {
      "image/png": "[encoded data removed]",
      "text/plain": [
       "<Figure size 1200x1000 with 1 Axes>"
      ]
     },
     "metadata": {},
     "output_type": "display_data"
    }
   ],
   "source": [
    "# Extract and Plot Feature Importances/Coefficients)\n",
    "\n",
    "# --- 1. Extract the components from our best pipeline ---\n",
    "# The best model is stored in grid_search.best_estimator_\n",
    "best_pipeline = grid_search.best_estimator_\n",
    "# We need to get the feature names after one-hot encoding\n",
    "feature_names = best_pipeline.named_steps['preprocessor'].get_feature_names_out()\n",
    "# We need to get the final coefficients from the trained regressor\n",
    "coefficients = best_pipeline.named_steps['regressor'].coef_\n",
    "\n",
    "\n",
    "# --- 2. Create a DataFrame of features and their coefficients ---\n",
    "coef_df = pd.DataFrame({\n",
    "    'feature': feature_names,\n",
    "    'coefficient': coefficients\n",
    "})\n",
    "\n",
    "# Get the absolute value for ranking, but keep the original for plotting\n",
    "coef_df['abs_coefficient'] = np.abs(coef_df['coefficient'])\n",
    "coef_df = coef_df.sort_values(by='abs_coefficient', ascending=False)\n",
    "\n",
    "\n",
    "# --- 3. Plot the top 20 most influential features ---\n",
    "plt.figure(figsize=(12, 10))\n",
    "sns.barplot(\n",
    "    x='coefficient',\n",
    "    y='feature',\n",
    "    hue='feature',\n",
    "    legend=False,\n",
    "    data=coef_df.head(20),\n",
    "    palette='coolwarm'\n",
    ")\n",
    "plt.title('Top 20 Most Influential Features in Ridge Model', fontsize=16)\n",
    "plt.xlabel('Coefficient Value (Impact on log_saleprice)', fontsize=12)\n",
    "plt.ylabel('Feature', fontsize=12)\n",
    "plt.show()\n",
    "\n",
    "\n"
   ]
  },
  {
   "cell_type": "markdown",
   "metadata": {
    "id": "I7ZUjcmIH21f"
   },
   "source": [
    "### Feature Importance Observation\n",
    "\n",
    "EDA Validation: The plot provides a powerful confirmation of our EDA findings. The top two non-location features are num_overall_qual and num_gr_liv_area, exactly as our correlation analysis predicted. This is a great sign that our model is learning logical patterns.\n",
    "\n",
    "The Power of Neighborhood: The most striking takeaway is how dominant the neighborhood feature is. After being one-hot encoded, individual neighborhoods make up the vast majority of the top 20 most influential features. This tells us that knowing the location of a house is critically important for the model's prediction.\n",
    "\n",
    "Interpreting the Coefficients (Positive vs. Negative):\n",
    "Positive (Red Bars): Features with a positive coefficient increase the predicted log_saleprice. As expected, these are the \"good\" things: StoneBr (Stone Brook neighborhood), NoRidge (Northridge), excellent quality ratings for heating (heating_qc_5), basement (bsmt_qual_5), and kitchen (kitchen_qual_5).\n",
    "\n",
    "Negative (Blue Bars): Features with a negative coefficient decrease the predicted log_saleprice. These are the \"bad\" things: being in less desirable neighborhoods (MeadowV, BrDale, IDOTRR) or having poor heating quality (heating_qc_1).\n",
    "\n",
    "A Deeper Insight - One-Hot Encoding: The feature names like cat__neighborhood_BrDale are the result of the OneHotEncoder. This feature is a binary 1 if the house is in the \"Briardale\" neighborhood and 0 otherwise. The model learned a large negative coefficient for this feature, meaning: \"All else being equal, if a house is in Briardale, significantly decrease your price prediction.\"\n",
    "\n",
    "\n",
    "Overall Conclusion from the Plot:\n",
    "The model has successfully learned the key drivers of house prices that we identified in our EDA. It heavily weighs the overall quality and size of the house but uses specific neighborhood information to make significant positive or negative adjustments to its final prediction. The model's \"thinking\" is logical, interpretable, and aligns perfectly with our exploratory findings. This is the sign of a successful baseline modeling process."
   ]
  },
  {
   "cell_type": "markdown",
   "metadata": {
    "id": "KC6OadQ6GgOe"
   },
   "source": [
    "### Future Work and Next Steps\n",
    "\n",
    "This baseline model provides a strong foundation, but there are several clear paths for improvement in a future iteration:\n",
    "\n",
    "1.  **Outlier Handling:** As identified in our residual plot, a few extreme outliers are significantly impacting the model's performance. A next version of the model should experiment with removing these 2-3 data points from the training set.\n",
    "2.  **Advanced Feature Engineering:** Create more sophisticated features, such as `house_age` (`yr_sold` - `year_built`) or interaction terms between key features (e.g., `overall_qual` * `gr_liv_area`).\n",
    "3.  **Experiment with More Powerful Models:** Use this Ridge model as a benchmark and train more complex, non-linear models like **Random Forest** or **XGBoost** to see if they can capture the remaining patterns in the data and reduce the RMSE further.\n",
    "4.  **Full Feature Set:** Train the Ridge model on all 77 available features to test the power of its L2 regularization against a more complex feature space."
   ]
  },
  {
   "cell_type": "markdown",
   "metadata": {
    "id": "SVFn57rsIesE"
   },
   "source": [
    "## 8. Executive Summary & Conclusion\n",
    "\n",
    "This project successfully demonstrates a complete, end-to-end data science workflow, moving from a comprehensive Exploratory Data Analysis (EDA) to the development of a robust, interpretable predictive model for the Ames Housing dataset.\n",
    "\n",
    "### Phase 1: Exploratory Data Analysis (EDA) Insights\n",
    "\n",
    "The initial EDA was crucial for understanding the data's structure and identifying the key drivers of `SalePrice`. Our key findings were:\n",
    "*   The `SalePrice` target variable was heavily right-skewed and required a **log transformation** to stabilize variance and meet the assumptions of linear models.\n",
    "*   **Overall Quality (`OverallQual`)** and **Above-Ground Living Area (`GrLivArea`)** were identified as the most powerful numerical predictors.\n",
    "*   **Neighborhood** was confirmed to be the most influential categorical feature, with a clear hierarchy of property values across different locations.\n",
    "\n",
    "### Phase 2: Predictive Modeling\n",
    "\n",
    "Building on the EDA insights, we developed a baseline regression model with the following methodology:\n",
    "*   **Model Choice:** A **Ridge (L2 Regularized) Regression** model was chosen for its ability to handle potential multicollinearity and prevent overfitting.\n",
    "*   **Feature Selection:** A curated set of 13 of the most impactful features identified during the EDA were used to build an interpretable and powerful baseline model.\n",
    "*   **Hyperparameter Tuning:** `GridSearchCV` with 5-fold cross-validation was used to find the optimal regularization strength (`alpha`), ensuring the model was well-tuned.\n",
    "\n",
    "### Final Model Performance:\n",
    "\n",
    "The final tuned model performed excellently on the unseen test data, achieving:\n",
    "*   **R-squared (R²): 0.8515** (The model explains over 85% of the variance in house prices).\n",
    "*   **Root Mean Squared Error (RMSE): ~$34,500** (A strong result, indicating the model's average prediction error in dollars).\n",
    "\n",
    "The analysis of the model's coefficients confirmed the EDA findings, with `OverallQual`, `GrLivArea`, and specific `Neighborhoods` being the most influential factors in its predictions.\n",
    "\n",
    "### Conclusion & Future Work\n",
    "\n",
    "We have successfully built a strong baseline model that accurately predicts house prices and is highly interpretable. The residual analysis shows the model is very reliable for the core market but could be improved for high-value properties.\n",
    "\n",
    "This project provides a solid foundation for several future iterations:\n",
    "1.  **Outlier Handling:** Experiment with removing the few extreme outliers identified in the residual plots to potentially improve RMSE.\n",
    "2.  **Advanced Modeling:** Use this Ridge model as a benchmark and train more complex models like **Random Forest** or **XGBoost** to capture non-linear relationships and likely achieve even higher accuracy.\n",
    "3.  **Full Feature Set:** Test the robustness of the Ridge model by training it on all 77 available features.\n",
    "\n",
    "This end-to-end process showcases a methodical, data-driven approach to moving from raw data to actionable, predictive insights."
   ]
  }
 ],
 "metadata": {
  "colab": {
   "authorship_tag": "ABX9TyNmunY2mq2h1jhIDPPLjDzD",
   "provenance": []
  },
  "kernelspec": {
   "display_name": "venv",
   "language": "python",
   "name": "python3"
  },
  "language_info": {
   "codemirror_mode": {
    "name": "ipython",
    "version": 3
   },
   "file_extension": ".py",
   "mimetype": "text/x-python",
   "name": "python",
   "nbconvert_exporter": "python",
   "pygments_lexer": "ipython3",
   "version": "3.13.2"
  }
 },
 "nbformat": 4,
 "nbformat_minor": 0
}
