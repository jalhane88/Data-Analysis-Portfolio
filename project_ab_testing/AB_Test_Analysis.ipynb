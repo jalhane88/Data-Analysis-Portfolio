{
 "cells": [
  {
   "cell_type": "markdown",
   "metadata": {
    "id": "giUWaAbut2FI"
   },
   "source": [
    "# Marketing A/B Test Analysis: Evaluating Campaign Effectiveness\n",
    "\n",
    "## Project Goal\n",
    "\n",
    "The objective of this project is to analyze the results of a marketing A/B test to determine if a new advertising campaign was effective in increasing user conversions. This analysis will use a formal hypothesis test to provide a statistically rigorous answer to the business question: \"Did the ad campaign lead to a significant uplift in purchases?\"\n",
    "\n",
    "This notebook will walk through the entire process, from defining the hypothesis and preparing the data to executing the statistical test and interpreting the results in a business context, including a high-level financial impact analysis.\n",
    "\n",
    "## The Dataset\n",
    "\n",
    "The dataset contains user-level results from an A/B test. The majority of users were shown a new advertisement (the experimental or 'ad' group), while a smaller control group was shown a Public Service Announcement ('psa').\n",
    "\n",
    "*   **Source:** [Kaggle - Marketing A/B Testing](https://www.kaggle.com/datasets/faviovaz/marketing-ab-testing)\n",
    "\n",
    "### Data Dictionary\n",
    "\n",
    "*   **user_id:** A unique identifier for each user.\n",
    "*   **test_group:** Indicates which group the user was in ('ad' or 'psa').\n",
    "*   **converted:** A boolean indicating if the user made a purchase (`True`) or not (`False`). This is our target variable.\n",
    "*   **total_ads:** The total number of ads the user saw.\n",
    "*   **most_ads_day:** The day of the week the user saw the most ads.\n",
    "*   **most_ads_hour:** The hour of the day the user saw the most ads."
   ]
  },
  {
   "cell_type": "markdown",
   "metadata": {
    "id": "bv0Og58BuNyn"
   },
   "source": [
    "## 1. Setup and Initial Exploration"
   ]
  },
  {
   "cell_type": "code",
   "execution_count": 1,
   "metadata": {
    "colab": {
     "base_uri": "https://localhost:8080/"
    },
    "executionInfo": {
     "elapsed": 30923,
     "status": "ok",
     "timestamp": 1754460911186,
     "user": {
      "displayName": "Julian Lehane",
      "userId": "05572513499392910126"
     },
     "user_tz": -120
    },
    "id": "x0Bl8x_qgdlk",
    "outputId": "0036b6db-264b-45fd-aede-1be237c935a7"
   },
   "outputs": [],
   "source": [
    "# --- 1. SETUP & IMPORTS ---\n",
    "import pandas as pd\n",
    "import numpy as np\n",
    "import matplotlib.pyplot as plt\n",
    "import seaborn as sns\n",
    "import sys\n",
    "# from google.colab import drive\n",
    "\n",
    "# --- Custom Utility Functions ---\n",
    "# Import below is a script for a initial exploration of the data\n",
    "# drive.mount('/content/drive')\n",
    "sys.path.append('../utils')\n",
    "import eda_utils\n",
    "\n",
    "# --- 2. LOAD DATA ---\n",
    "file_path = './data/ab_test_data.csv'\n",
    "\n",
    "# Load the dataset\n",
    "df = pd.read_csv(file_path)"
   ]
  },
  {
   "cell_type": "code",
   "execution_count": 2,
   "metadata": {
    "colab": {
     "base_uri": "https://localhost:8080/"
    },
    "executionInfo": {
     "elapsed": 687,
     "status": "ok",
     "timestamp": 1754460911877,
     "user": {
      "displayName": "Julian Lehane",
      "userId": "05572513499392910126"
     },
     "user_tz": -120
    },
    "id": "HJ6oG0HJj_Se",
    "outputId": "e04c92f3-49a0-4476-87ad-d77eef364dae"
   },
   "outputs": [
    {
     "name": "stdout",
     "output_type": "stream",
     "text": [
      "--- Initial Data Report ---\n",
      "\n",
      "--- Shape ---\n",
      "Rows: 588101, Columns: 7\n",
      "\n",
      "--- Data Types & Non-Null Counts ---\n",
      "<class 'pandas.core.frame.DataFrame'>\n",
      "RangeIndex: 588101 entries, 0 to 588100\n",
      "Data columns (total 7 columns):\n",
      " #   Column         Non-Null Count   Dtype \n",
      "---  ------         --------------   ----- \n",
      " 0   Unnamed: 0     588101 non-null  int64 \n",
      " 1   user id        588101 non-null  int64 \n",
      " 2   test group     588101 non-null  object\n",
      " 3   converted      588101 non-null  bool  \n",
      " 4   total ads      588101 non-null  int64 \n",
      " 5   most ads day   588101 non-null  object\n",
      " 6   most ads hour  588101 non-null  int64 \n",
      "dtypes: bool(1), int64(4), object(2)\n",
      "memory usage: 27.5+ MB\n",
      "\n",
      "--- First 5 Rows (Head) ---\n",
      "   Unnamed: 0  user id test group  converted  total ads most ads day  \\\n",
      "0           0  1069124         ad      False        130       Monday   \n",
      "1           1  1119715         ad      False         93      Tuesday   \n",
      "2           2  1144181         ad      False         21      Tuesday   \n",
      "3           3  1435133         ad      False        355      Tuesday   \n",
      "4           4  1015700         ad      False        276       Friday   \n",
      "\n",
      "   most ads hour  \n",
      "0             20  \n",
      "1             22  \n",
      "2             18  \n",
      "3             10  \n",
      "4             14  \n",
      "\n",
      "--- Missing Values (%) ---\n",
      "Series([], dtype: float64)\n",
      "\n",
      "--- Duplicate Rows ---\n",
      "Number of duplicate rows: 0\n",
      "\n",
      "--- Numerical Data Summary ---\n",
      "          Unnamed: 0       user id      total ads  most ads hour\n",
      "count  588101.000000  5.881010e+05  588101.000000  588101.000000\n",
      "mean   294050.000000  1.310692e+06      24.820876      14.469061\n",
      "std    169770.279668  2.022260e+05      43.715181       4.834634\n",
      "min         0.000000  9.000000e+05       1.000000       0.000000\n",
      "25%    147025.000000  1.143190e+06       4.000000      11.000000\n",
      "50%    294050.000000  1.313725e+06      13.000000      14.000000\n",
      "75%    441075.000000  1.484088e+06      27.000000      18.000000\n",
      "max    588100.000000  1.654483e+06    2065.000000      23.000000\n",
      "\n",
      "--- Categorical Data Summary ---\n",
      "       test group most ads day\n",
      "count      588101       588101\n",
      "unique          2            7\n",
      "top            ad       Friday\n",
      "freq       564577        92608\n",
      "\n",
      "--- Unique Values Per Column ---\n",
      "Unnamed: 0       588101\n",
      "user id          588101\n",
      "test group            2\n",
      "converted             2\n",
      "total ads           807\n",
      "most ads day          7\n",
      "most ads hour        24\n",
      "dtype: int64\n",
      "\n",
      "--- End of Report ---\n",
      "\n",
      "==================================================\n",
      "\n",
      "--- Value Counts for Key Columns ---\n",
      "Test Group Counts:\n",
      "test group\n",
      "ad     564577\n",
      "psa     23524\n",
      "Name: count, dtype: int64\n",
      "\n",
      "Converted Counts:\n",
      "converted\n",
      "False    573258\n",
      "True      14843\n",
      "Name: count, dtype: int64\n"
     ]
    }
   ],
   "source": [
    "# --- 3. INITIAL EXPLORATION ---\n",
    "# Using our eda utility function\n",
    "eda_utils.initial_report(df)\n",
    "print(\"\\n\" + \"=\"*50 + \"\\n\")\n",
    "\n",
    "print(\"--- Value Counts for Key Columns ---\")\n",
    "print(\"Test Group Counts:\")\n",
    "print(df['test group'].value_counts())\n",
    "print(\"\\nConverted Counts:\")\n",
    "print(df['converted'].value_counts())"
   ]
  },
  {
   "cell_type": "markdown",
   "metadata": {
    "id": "jjLIMMojmU6k"
   },
   "source": [
    "# Key Findings:\n",
    "\n",
    "1. Unnamed Column: There's a column named Unnamed: 0. This is a classic sign that when the original CSV was saved, the DataFrame's index was accidentally saved as a separate column. It is redundant and should be our first cleanup task.\n",
    "2. Messy Column Names: As noted, user id and test group have spaces. We need to convert all columns to clean snake_case.\n",
    "3. Data Types are Good: The data types look mostly correct. converted is already a bool (True/False), which is perfect.\n",
    "4. No Missing Data/Duplicates: This is a clean dataset.\n",
    "5. Group Imbalance: This is a crucial finding from the value_counts. The ad group (564,577 users) is much, much larger than the psa group (23,524 users). This is very common in A/B tests (more people are exposed to the new feature), but it's important to be aware of.\n",
    "6. Low Overall Conversion: Only ~2.5% of users converted overall (14843 / 588101). This is also typical for online advertising."
   ]
  },
  {
   "cell_type": "markdown",
   "metadata": {
    "id": "ngyeB_tmnlvp"
   },
   "source": [
    "## 2. Problem Definition & Hypothesis Formulation\n",
    "\n",
    "The central question of this analysis is to determine if the advertising campaign was effective in increasing conversions. We will use a formal hypothesis test to provide a statistically-backed answer.\n",
    "\n",
    "### Key Metrics\n",
    "*   **Conversion Rate:** The proportion of users in a group who made a purchase. This is calculated as `(Number of Conversions / Total Number of Users)`.\n",
    "\n",
    "### Hypothesis\n",
    "We will test the following hypotheses at a significance level (α) of 0.05:\n",
    "\n",
    "*   **Null Hypothesis (H₀):** There is no statistically significant difference in the conversion rate between the experimental group (who saw the ad) and the control group (who saw the PSA).\n",
    "    *   `H₀: Conversion_Rate_Ad = Conversion_Rate_PSA`\n",
    "\n",
    "*   **Alternative Hypothesis (H₁):** The conversion rate for the experimental group is significantly higher than the conversion rate for the control group.\n",
    "    *   `H₁: Conversion_Rate_Ad > Conversion_Rate_PSA`\n",
    "\n",
    "If the p-value from our test is less than 0.05, we will reject the null hypothesis and conclude that the ad campaign was successful."
   ]
  },
  {
   "cell_type": "markdown",
   "metadata": {
    "id": "qnsQkLxbnrBq"
   },
   "source": [
    "## 3. Data Preparation & Initial Analysis\n",
    "\n",
    "Before conducting the test, we must clean the data and calculate the observed conversion rates for each group."
   ]
  },
  {
   "cell_type": "code",
   "execution_count": 3,
   "metadata": {
    "colab": {
     "base_uri": "https://localhost:8080/"
    },
    "executionInfo": {
     "elapsed": 22,
     "status": "ok",
     "timestamp": 1754460911903,
     "user": {
      "displayName": "Julian Lehane",
      "userId": "05572513499392910126"
     },
     "user_tz": -120
    },
    "id": "c0Xyg8tAmifT",
    "outputId": "b632a43e-3b46-406b-9f24-d9caf263a7a6"
   },
   "outputs": [
    {
     "name": "stdout",
     "output_type": "stream",
     "text": [
      "Cleaned DataFrame columns:\n",
      "Index(['user_id', 'test_group', 'converted', 'total_ads', 'most_ads_day',\n",
      "       'most_ads_hour'],\n",
      "      dtype='object')\n"
     ]
    }
   ],
   "source": [
    "# --- Clean Column Names & Drop Redundant Column ---\n",
    "df.columns = [col.replace(' ', '_').lower() for col in df.columns]\n",
    "df.drop(columns=['unnamed:_0'], inplace=True)\n",
    "\n",
    "# --- Verification ---\n",
    "print(\"Cleaned DataFrame columns:\")\n",
    "print(df.columns)"
   ]
  },
  {
   "cell_type": "markdown",
   "metadata": {
    "id": "adGtzl_coq8A"
   },
   "source": [
    "### 3.1 Calculate Observed Conversion Rates\n",
    "\n",
    "Now that the data is clean, our first analytical step is to calculate the raw, observed conversion rates for both the `ad` group and the `psa` group. This will give us a first look at the data and see if there's a noticeable difference before we run a formal statistical test."
   ]
  },
  {
   "cell_type": "code",
   "execution_count": 4,
   "metadata": {
    "colab": {
     "base_uri": "https://localhost:8080/",
     "height": 657
    },
    "executionInfo": {
     "elapsed": 299,
     "status": "ok",
     "timestamp": 1754461028029,
     "user": {
      "displayName": "Julian Lehane",
      "userId": "05572513499392910126"
     },
     "user_tz": -120
    },
    "id": "0L_4kESuorcb",
    "outputId": "7ed4691e-b4cb-4ef0-8d40-bcbb32a2d263"
   },
   "outputs": [
    {
     "name": "stdout",
     "output_type": "stream",
     "text": [
      "--- Observed Conversion Rates ---\n",
      "test_group\n",
      "ad     2.55\n",
      "psa    1.79\n",
      "Name: converted, dtype: float64\n"
     ]
    },
    {
     "data": {
      "image/png": "[encoded data removed]",
      "text/plain": [
       "<Figure size 800x600 with 1 Axes>"
      ]
     },
     "metadata": {},
     "output_type": "display_data"
    }
   ],
   "source": [
    "# --- Calculate conversion rates for each group ---\n",
    "\n",
    "# We can group by 'test_group' and then calculate the mean of the 'converted' column.\n",
    "# Since True=1 and False=0, the mean is the same as the conversion rate.\n",
    "conversion_rates = df.groupby('test_group')['converted'].mean()\n",
    "\n",
    "print(\"--- Observed Conversion Rates ---\")\n",
    "# We multiply by 100 to express it as a percentage.\n",
    "print(round(conversion_rates * 100, 2))\n",
    "\n",
    "\n",
    "# --- Visualize the conversion rates ---\n",
    "plt.figure(figsize=(8, 6))\n",
    "ax = sns.barplot(x=conversion_rates.index, y=conversion_rates.values, palette='viridis', hue=conversion_rates.index, legend=False)\n",
    "\n",
    "plt.title('Observed Conversion Rate by Test Group', fontsize=16)\n",
    "plt.ylabel('Conversion Rate', fontsize=12)\n",
    "plt.xlabel('Test Group', fontsize=12)\n",
    "\n",
    "# Add percentage labels on top of the bars for clarity\n",
    "for p in ax.patches:\n",
    "    ax.annotate(f'{p.get_height() * 100:.2f}%',\n",
    "                (p.get_x() + p.get_width() / 2., p.get_height()),\n",
    "                ha='center', va='center',\n",
    "                xytext=(0, 9),\n",
    "                textcoords='offset points')\n",
    "plt.show()"
   ]
  },
  {
   "cell_type": "markdown",
   "metadata": {
    "id": "K2Jo_dZWpGYy"
   },
   "source": [
    "**Initial Observation:**\n",
    "\n",
    "The initial results are promising. The group that saw the **ad** had an observed conversion rate of **2.55%**, while the group that saw the **PSA** had a conversion rate of **1.78%**.\n",
    "\n",
    "On the surface, the ad seems to have performed better. However, the crucial question is: **is this difference large enough to be statistically significant, or could it have just occurred due to random chance?**\n",
    "\n",
    "To answer this, we must perform a formal hypothesis test."
   ]
  },
  {
   "cell_type": "markdown",
   "metadata": {
    "id": "0wbSaUEipVd2"
   },
   "source": [
    "## 4. Statistical Test Execution\n",
    "\n",
    "To formally test our hypothesis, we will use the **Chi-Squared Test of Independence**. This test is the perfect tool for our scenario because it's designed to determine if there is a significant association between two categorical variables. In our case, these variables are:\n",
    "\n",
    "1.  **`test_group`** (with categories: 'ad', 'psa')\n",
    "2.  **`converted`** (with categories: True, False)\n",
    "\n",
    "The test will compare our *observed* counts of converted/not-converted users in each group to the counts we would *expect* to see if there were no relationship between the two variables (i.e., if the null hypothesis were true).\n",
    "\n",
    "### 4.1 Creating the Contingency Table\n",
    "\n",
    "The first step is to create a **contingency table**, which is a simple 2x2 table that shows the raw counts for each combination of our two variables."
   ]
  },
  {
   "cell_type": "code",
   "execution_count": 5,
   "metadata": {
    "colab": {
     "base_uri": "https://localhost:8080/"
    },
    "executionInfo": {
     "elapsed": 89,
     "status": "ok",
     "timestamp": 1754461031412,
     "user": {
      "displayName": "Julian Lehane",
      "userId": "05572513499392910126"
     },
     "user_tz": -120
    },
    "id": "QhFFth-_pYr3",
    "outputId": "08b5bfe7-122a-4d3e-b30d-d0b4917e2760"
   },
   "outputs": [
    {
     "name": "stdout",
     "output_type": "stream",
     "text": [
      "--- Contingency Table ---\n",
      "converted    False  True \n",
      "test_group               \n",
      "ad          550154  14423\n",
      "psa          23104    420\n"
     ]
    }
   ],
   "source": [
    "# The pd.crosstab() function is designed for exactly this purpose.\n",
    "contingency_table = pd.crosstab(df['test_group'], df['converted'])\n",
    "\n",
    "print(\"--- Contingency Table ---\")\n",
    "print(contingency_table)"
   ]
  },
  {
   "cell_type": "markdown",
   "metadata": {
    "id": "7VIYojcMpiq5"
   },
   "source": [
    "### 4.2 Performing the Chi-Squared Test\n",
    "\n",
    "Now that we have our contingency table, we can pass it directly into the Chi-Squared function from the `scipy.stats` library. This function will return several values, but we are primarily interested in the **p-value**."
   ]
  },
  {
   "cell_type": "code",
   "execution_count": 6,
   "metadata": {
    "colab": {
     "base_uri": "https://localhost:8080/"
    },
    "executionInfo": {
     "elapsed": 5,
     "status": "ok",
     "timestamp": 1754461032594,
     "user": {
      "displayName": "Julian Lehane",
      "userId": "05572513499392910126"
     },
     "user_tz": -120
    },
    "id": "apv8LI8bpZSe",
    "outputId": "346babb4-150a-46bd-be12-7d95a7597187"
   },
   "outputs": [
    {
     "name": "stdout",
     "output_type": "stream",
     "text": [
      "--- Chi-Squared Test Results ---\n",
      "Chi-Squared Statistic: 54.0058\n",
      "P-value: 0.0000\n",
      "Degrees of Freedom: 1\n"
     ]
    }
   ],
   "source": [
    "# Import the chi2_contingency function from scipy's stats library\n",
    "from scipy.stats import chi2_contingency\n",
    "\n",
    "# The chi2_contingency function takes the contingency table as input\n",
    "chi2, p_value, dof, expected = chi2_contingency(contingency_table)\n",
    "\n",
    "# --- Print the results in a clear, readable format ---\n",
    "print(f\"--- Chi-Squared Test Results ---\")\n",
    "print(f\"Chi-Squared Statistic: {chi2:.4f}\")\n",
    "print(f\"P-value: {p_value:.4f}\")\n",
    "print(f\"Degrees of Freedom: {dof}\")\n",
    "# The 'expected' variable contains the expected counts under the null hypothesis\n",
    "# print(\"\\nExpected Frequencies:\")\n",
    "# print(expected)"
   ]
  },
  {
   "cell_type": "markdown",
   "metadata": {
    "id": "UEajgkanqZ2B"
   },
   "source": [
    "# Interpretation\n",
    "\n",
    "The Statistical Conclusion: Our calculated p-value (0.0000) is much smaller than our chosen significance level of α = 0.05.\n",
    "\n",
    "The Action: Therefore, we reject the null hypothesis (H₀).\n",
    "\n",
    "The Business Interpretation: We have strong statistical evidence to conclude that there is a significant difference in the conversion rates between the ad group and the psa group. The difference we observed is not just due to random chance. The ad campaign was effective at increasing conversions.\n"
   ]
  },
  {
   "cell_type": "markdown",
   "metadata": {
    "id": "n0QMmOHGqmtO"
   },
   "source": [
    "## 5. Conclusion & Business Recommendation\n",
    "\n",
    "The final step is to interpret the results of our statistical test and translate them into a clear recommendation for the business.\n",
    "\n",
    "### 5.1 Statistical Conclusion\n",
    "The Chi-Squared Test of Independence yielded a p-value of approximately **0.0000**. This value is significantly less than our chosen significance level of **α = 0.05**.\n",
    "\n",
    "Based on this result, we **reject the null hypothesis**. This means we have strong statistical evidence to conclude that there is a significant association between the test group and the conversion outcome. The observed difference in conversion rates (2.55% for the `ad` group vs. 1.78% for the `psa` group) is not due to random chance.\n",
    "\n",
    "### 5.2 Business Recommendation\n",
    "\n",
    "**The ad campaign was a success.**\n",
    "\n",
    "The data shows with a high degree of statistical confidence that the advertisement was effective at increasing the user conversion rate compared to the public service announcement.\n",
    "\n",
    "**Recommendation:**\n",
    "The company should proceed with a full rollout of this advertising campaign. The increased conversion rate, while seemingly small in percentage terms, can lead to a substantial increase in revenue when applied to the entire user base.\n",
    "\n",
    "**Further Analysis (Optional):**\n",
    "As a next step, an analysis could be conducted to determine the Return on Ad Spend (ROAS). By combining the uplift in conversions with the cost of the campaign, the total financial benefit could be quantified, providing an even stronger business case for the campaign's rollout."
   ]
  },
  {
   "cell_type": "markdown",
   "metadata": {
    "id": "dPN3eJ3FvVEz"
   },
   "source": [
    "### 5.3 Assumptions and Further Considerations\n",
    "\n",
    "While our statistical test provides a clear result based on the data provided, a comprehensive A/B test analysis in a real-world business context would also involve validating several assumptions about the experimental design. For this portfolio project, we proceed based on the assumption that the experiment was well-designed.\n",
    "\n",
    "Key considerations for a full-scale analysis would include:\n",
    "\n",
    "*   **Randomization:** We assume that users were randomly and evenly assigned to the `ad` and `psa` groups, preventing any selection bias.\n",
    "*   **Sample Size & Power:** The large sample size in this dataset gives us confidence in the result. In a real-world scenario, a \"power analysis\" would be conducted *before* the test to ensure the sample size was sufficient to detect a meaningful effect.\n",
    "*   **Novelty Effect & Test Duration:** We assume the test was run for a sufficient duration to mitigate any \"novelty effect\" (where users interact with a new feature simply because it is new).\n",
    "*   **No \"Peeking\":** We assume the test was not stopped prematurely as soon as the results appeared significant, as this can inflate the false positive rate.\n",
    "\n",
    "Acknowledging these factors is a crucial part of a robust A/B testing framework."
   ]
  },
  {
   "cell_type": "markdown",
   "metadata": {
    "id": "UyebA6EVrpil"
   },
   "source": [
    "## 6. (Optional) Financial Impact Analysis: Return on Ad Spend\n",
    "\n",
    "While our statistical test confirmed the campaign's effectiveness in increasing conversions, the ultimate business question is about financial impact. To assess this, we can estimate the Return on Ad Spend (ROAS).\n",
    "\n",
    "This requires two key pieces of information not present in the dataset: the **total cost of the campaign** and the **average revenue per conversion**. For this analysis, we will proceed with the following reasonable assumptions, which in a real-world scenario would be provided by the marketing and finance departments.\n",
    "\n",
    "### 6.1 Assumptions\n",
    "\n",
    "*   **Average Revenue Per Conversion (ARPU):** We will assume that each successful conversion (a purchase) generates an average of **25.00usd** in revenue for the company.\n",
    "*   **Total Campaign Cost:** We will assume the total cost to run the ad campaign (including ad spend and creative) was **150,000usd**. We only consider the cost of the `ad` group, as the `psa` group would be considered a baseline or control cost.\n",
    "\n",
    "With these assumptions, we can calculate the financial lift provided by the ad."
   ]
  },
  {
   "cell_type": "code",
   "execution_count": 7,
   "metadata": {
    "colab": {
     "base_uri": "https://localhost:8080/"
    },
    "executionInfo": {
     "elapsed": 20,
     "status": "ok",
     "timestamp": 1754461035918,
     "user": {
      "displayName": "Julian Lehane",
      "userId": "05572513499392910126"
     },
     "user_tz": -120
    },
    "id": "lOxqlvVqqjKh",
    "outputId": "366b1f3c-8d0f-4fe8-eafa-b4959583b655"
   },
   "outputs": [
    {
     "name": "stdout",
     "output_type": "stream",
     "text": [
      "Number of conversions from AD group: 14423\n",
      "Number of conversions from PSA group: 420\n",
      "\n",
      "Total revenue from AD group: $360,575.00\n",
      "Total revenue from PSA group: $10,500.00\n",
      "\n",
      "Revenue Lift attributable to the ad campaign: $350,075.00\n",
      "Return on Ad Spend (ROAS): 2.40\n",
      "Cost Per Acquisition (CPA): $10.40\n"
     ]
    }
   ],
   "source": [
    "# --- 1. Define our assumptions ---\n",
    "ARPU = 25.00  # Average Revenue Per User/Conversion\n",
    "CAMPAIGN_COST = 150000.00\n",
    "\n",
    "# --- 2. Get the number of conversions from our contingency table ---\n",
    "# The table has groups as index and converted (False/True) as columns\n",
    "ad_conversions = contingency_table.loc['ad', True]\n",
    "psa_conversions = contingency_table.loc['psa', True]\n",
    "print(f\"Number of conversions from AD group: {ad_conversions}\")\n",
    "print(f\"Number of conversions from PSA group: {psa_conversions}\\n\")\n",
    "\n",
    "# --- 3. Calculate total revenue generated by each group ---\n",
    "ad_revenue = ad_conversions * ARPU\n",
    "psa_revenue = psa_conversions * ARPU\n",
    "print(f\"Total revenue from AD group: ${ad_revenue:,.2f}\")\n",
    "print(f\"Total revenue from PSA group: ${psa_revenue:,.2f}\\n\")\n",
    "\n",
    "\n",
    "# --- 4. Calculate the financial lift and ROAS ---\n",
    "# The 'lift' is the extra revenue generated by the ad campaign.\n",
    "revenue_lift = ad_revenue - psa_revenue\n",
    "print(f\"Revenue Lift attributable to the ad campaign: ${revenue_lift:,.2f}\")\n",
    "\n",
    "# ROAS = (Revenue from Ad / Cost of Ad). A value > 1 means it was profitable.\n",
    "roas = ad_revenue / CAMPAIGN_COST\n",
    "print(f\"Return on Ad Spend (ROAS): {roas:.2f}\")\n",
    "\n",
    "# We can also calculate the Cost Per Acquisition (CPA)\n",
    "cpa = CAMPAIGN_COST / ad_conversions\n",
    "print(f\"Cost Per Acquisition (CPA): ${cpa:.2f}\")"
   ]
  },
  {
   "cell_type": "markdown",
   "metadata": {
    "id": "78pCRDwmro_9"
   },
   "source": [
    "### 6.2 Financial Conclusion\n",
    "\n",
    "Based on our assumptions, the financial analysis provides a clear picture of the campaign's value:\n",
    "\n",
    "*   **Revenue:** The ad group generated **360,575 usd** in revenue, compared to **10,500 usd** from the PSA group.\n",
    "*   **Return on Ad Spend (ROAS):** With a ROAS of **2.40**, the campaign was highly profitable. For every **1.00 usd** spent on the ad campaign, the company generated **2.40 usd** in revenue.\n",
    "*   **Cost Per Acquisition (CPA):** The cost to acquire a new customer through this campaign was **10.40 usd**, which can be compared against the company's target CPA benchmarks.\n",
    "\n",
    "**Final Recommendation:**\n",
    "The ad campaign was not only statistically effective but also financially profitable. The recommendation to proceed with a full rollout is strongly supported by this financial analysis. The company can expect a positive return on its investment based on these results."
   ]
  }
 ],
 "metadata": {
  "colab": {
   "authorship_tag": "ABX9TyNNKP9aX4SSzBFVD/yJ7QBl",
   "provenance": []
  },
  "kernelspec": {
   "display_name": "venv",
   "language": "python",
   "name": "python3"
  },
  "language_info": {
   "codemirror_mode": {
    "name": "ipython",
    "version": 3
   },
   "file_extension": ".py",
   "mimetype": "text/x-python",
   "name": "python",
   "nbconvert_exporter": "python",
   "pygments_lexer": "ipython3",
   "version": "3.13.2"
  }
 },
 "nbformat": 4,
 "nbformat_minor": 0
}
